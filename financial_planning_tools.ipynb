{
 "cells": [
  {
   "cell_type": "markdown",
   "metadata": {},
   "source": [
    "# Financial Planning with APIs and Simulations\n",
    "\n",
    "In this Challenge, you’ll create two financial analysis tools by using a single Jupyter notebook:\n",
    "\n",
    "Part 1: A financial planner for emergencies. The members will be able to use this tool to visualize their current savings. The members can then determine if they have enough reserves for an emergency fund.\n",
    "\n",
    "Part 2: A financial planner for retirement. This tool will forecast the performance of their retirement portfolio in 30 years. To do this, the tool will make an Alpaca API call via the Alpaca SDK to get historical price data for use in Monte Carlo simulations.\n",
    "\n",
    "You’ll use the information from the Monte Carlo simulation to answer questions about the portfolio in your Jupyter notebook.\n",
    "\n"
   ]
  },
  {
   "cell_type": "code",
   "execution_count": 1,
   "metadata": {},
   "outputs": [],
   "source": [
    "# Import the required libraries and dependencies\n",
    "import os\n",
    "import requests\n",
    "import json\n",
    "import pandas as pd\n",
    "from dotenv import load_dotenv\n",
    "import alpaca_trade_api as tradeapi\n",
    "from MCForecastTools import MCSimulation\n",
    "\n",
    "%matplotlib inline"
   ]
  },
  {
   "cell_type": "code",
   "execution_count": 2,
   "metadata": {},
   "outputs": [
    {
     "data": {
      "text/plain": [
       "True"
      ]
     },
     "execution_count": 2,
     "metadata": {},
     "output_type": "execute_result"
    }
   ],
   "source": [
    "# Load the environment variables from the .env file\n",
    "#by calling the load_dotenv function\n",
    "load_dotenv()"
   ]
  },
  {
   "cell_type": "markdown",
   "metadata": {},
   "source": [
    "## Part 1: Create a Financial Planner for Emergencies"
   ]
  },
  {
   "cell_type": "markdown",
   "metadata": {},
   "source": [
    "### Evaluate the Cryptocurrency Wallet by Using the Requests Library\n",
    "\n",
    "In this section, you’ll determine the current value of a member’s cryptocurrency wallet. You’ll collect the current prices for the Bitcoin and Ethereum cryptocurrencies by using the Python Requests library. For the prototype, you’ll assume that the member holds the 1.2 Bitcoins (BTC) and 5.3 Ethereum coins (ETH). To do all this, complete the following steps:\n",
    "\n",
    "1. Create a variable named `monthly_income`, and set its value to `12000`.\n",
    "\n",
    "2. Use the Requests library to get the current price (in US dollars) of Bitcoin (BTC) and Ethereum (ETH) by using the API endpoints that the starter code supplies.\n",
    "\n",
    "3. Navigate the JSON response object to access the current price of each coin, and store each in a variable.\n",
    "\n",
    "    > **Hint** Note the specific identifier for each cryptocurrency in the API JSON response. The Bitcoin identifier is `1`, and the Ethereum identifier is `1027`.\n",
    "\n",
    "4. Calculate the value, in US dollars, of the current amount of each cryptocurrency and of the entire cryptocurrency wallet.\n",
    "\n"
   ]
  },
  {
   "cell_type": "code",
   "execution_count": 3,
   "metadata": {},
   "outputs": [],
   "source": [
    "# The current number of coins for each cryptocurrency asset held in the portfolio.\n",
    "btc_coins = 1.2\n",
    "eth_coins = 5.3"
   ]
  },
  {
   "cell_type": "markdown",
   "metadata": {},
   "source": [
    "#### Step 1: Create a variable named `monthly_income`, and set its value to `12000`."
   ]
  },
  {
   "cell_type": "code",
   "execution_count": 93,
   "metadata": {},
   "outputs": [],
   "source": [
    "# The monthly amount for the member's household income\n",
    "monthly_income = 12000\n"
   ]
  },
  {
   "cell_type": "markdown",
   "metadata": {},
   "source": [
    "#### Review the endpoint URLs for the API calls to Free Crypto API in order to get the current pricing information for both BTC and ETH."
   ]
  },
  {
   "cell_type": "code",
   "execution_count": 94,
   "metadata": {},
   "outputs": [],
   "source": [
    "# The Free Crypto API Call endpoint URLs for the held cryptocurrency assets\n",
    "btc_url = \"https://api.alternative.me/v2/ticker/Bitcoin/?convert=USD\"\n",
    "eth_url = \"https://api.alternative.me/v2/ticker/Ethereum/?convert=USD\""
   ]
  },
  {
   "cell_type": "markdown",
   "metadata": {},
   "source": [
    "#### Step 2. Use the Requests library to get the current price (in US dollars) of Bitcoin (BTC) and Ethereum (ETH) by using the API endpoints that the starter code supplied."
   ]
  },
  {
   "cell_type": "code",
   "execution_count": 95,
   "metadata": {},
   "outputs": [
    {
     "name": "stdout",
     "output_type": "stream",
     "text": [
      "{\n",
      "    \"data\": {\n",
      "        \"1\": {\n",
      "            \"circulating_supply\": 18622450,\n",
      "            \"id\": 1,\n",
      "            \"last_updated\": 1612730039,\n",
      "            \"max_supply\": 21000000,\n",
      "            \"name\": \"Bitcoin\",\n",
      "            \"quotes\": {\n",
      "                \"USD\": {\n",
      "                    \"market_cap\": 707182633296,\n",
      "                    \"percent_change_1h\": -0.769923245438823,\n",
      "                    \"percent_change_24h\": -4.31158756096593,\n",
      "                    \"percent_change_7d\": 11.177858940678,\n",
      "                    \"percentage_change_1h\": -0.769923245438823,\n",
      "                    \"percentage_change_24h\": -4.31158756096593,\n",
      "                    \"percentage_change_7d\": 11.177858940678,\n",
      "                    \"price\": 38022.0,\n",
      "                    \"volume_24h\": 53349754972\n",
      "                }\n",
      "            },\n",
      "            \"rank\": 1,\n",
      "            \"symbol\": \"BTC\",\n",
      "            \"total_supply\": 18622450,\n",
      "            \"website_slug\": \"bitcoin\"\n",
      "        }\n",
      "    },\n",
      "    \"metadata\": {\n",
      "        \"error\": null,\n",
      "        \"num_cryptocurrencies\": 1366,\n",
      "        \"timestamp\": 1612730039\n",
      "    }\n",
      "}\n"
     ]
    }
   ],
   "source": [
    "# Using the Python requests library, make an API call to access the current price of BTC\n",
    "btc_response = requests.get(btc_url).json()\n",
    "\n",
    "# Use the json.dumps function to review the response data from the API call\n",
    "# Use the indent and sort_keys parameters to make the response object readable\n",
    "# YOUR CODE HERE\n",
    "print(json.dumps(btc_response, indent=4, sort_keys=True))"
   ]
  },
  {
   "cell_type": "code",
   "execution_count": 96,
   "metadata": {},
   "outputs": [
    {
     "name": "stdout",
     "output_type": "stream",
     "text": [
      "{\n",
      "    \"data\": {\n",
      "        \"1027\": {\n",
      "            \"circulating_supply\": 114577102,\n",
      "            \"id\": 1027,\n",
      "            \"last_updated\": 1612729804,\n",
      "            \"max_supply\": 0,\n",
      "            \"name\": \"Ethereum\",\n",
      "            \"quotes\": {\n",
      "                \"USD\": {\n",
      "                    \"market_cap\": 178951040038,\n",
      "                    \"percent_change_1h\": -0.770829673876018,\n",
      "                    \"percent_change_24h\": -7.56892782742081,\n",
      "                    \"percent_change_7d\": 14.0067275560481,\n",
      "                    \"percentage_change_1h\": -0.770829673876018,\n",
      "                    \"percentage_change_24h\": -7.56892782742081,\n",
      "                    \"percentage_change_7d\": 14.0067275560481,\n",
      "                    \"price\": 1564.66,\n",
      "                    \"volume_24h\": 37611450503\n",
      "                }\n",
      "            },\n",
      "            \"rank\": 2,\n",
      "            \"symbol\": \"ETH\",\n",
      "            \"total_supply\": 114577102,\n",
      "            \"website_slug\": \"ethereum\"\n",
      "        }\n",
      "    },\n",
      "    \"metadata\": {\n",
      "        \"error\": null,\n",
      "        \"num_cryptocurrencies\": 1366,\n",
      "        \"timestamp\": 1612729804\n",
      "    }\n",
      "}\n"
     ]
    }
   ],
   "source": [
    "# Using the Python requests library, make an API call to access the current price ETH\n",
    "eth_response = eth_response = requests.get(eth_url).json()\n",
    "\n",
    "# Use the json.dumps function to review the response data from the API call\n",
    "# Use the indent and sort_keys parameters to make the response object readable\n",
    "# YOUR CODE HERE\n",
    "print(json.dumps(eth_response, indent=4, sort_keys=True))"
   ]
  },
  {
   "cell_type": "markdown",
   "metadata": {},
   "source": [
    "#### Step 3: Navigate the JSON response object to access the current price of each coin, and store each in a variable."
   ]
  },
  {
   "cell_type": "code",
   "execution_count": 97,
   "metadata": {},
   "outputs": [
    {
     "name": "stdout",
     "output_type": "stream",
     "text": [
      "the price of BTC is $38022.0\n"
     ]
    }
   ],
   "source": [
    "# Navigate the BTC response object to access the current price of BTC\n",
    "btc_price = btc_response[\"data\"][\"1\"][\"quotes\"][\"USD\"][\"price\"]\n",
    "\n",
    "# Print the current price of BTC\n",
    "# YOUR CODE HERE\n",
    "print(f\"the price of BTC is ${btc_price}\")"
   ]
  },
  {
   "cell_type": "code",
   "execution_count": 98,
   "metadata": {},
   "outputs": [
    {
     "name": "stdout",
     "output_type": "stream",
     "text": [
      "the price of ETH is $1564.66\n"
     ]
    }
   ],
   "source": [
    "# Navigate the BTC response object to access the current price of ETH\n",
    "eth_price = eth_response[\"data\"][\"1027\"][\"quotes\"][\"USD\"][\"price\"]\n",
    "\n",
    "# Print the current price of ETH\n",
    "# YOUR CODE HERE\n",
    "print(f\"the price of ETH is ${eth_price}\")"
   ]
  },
  {
   "cell_type": "markdown",
   "metadata": {},
   "source": [
    "### Step 4: Calculate the value, in US dollars, of the current amount of each cryptocurrency and of the entire cryptocurrency wallet."
   ]
  },
  {
   "cell_type": "code",
   "execution_count": 99,
   "metadata": {},
   "outputs": [
    {
     "name": "stdout",
     "output_type": "stream",
     "text": [
      "the currente value of BTC holding is $45626.4\n"
     ]
    }
   ],
   "source": [
    "# Compute the current value of the BTC holding \n",
    "btc_value = btc_price * btc_coins\n",
    "\n",
    "# Print current value of your holding in BTC\n",
    "# YOUR CODE HERE\n",
    "print(f\"the currente value of BTC holding is ${btc_value}\")"
   ]
  },
  {
   "cell_type": "code",
   "execution_count": 100,
   "metadata": {},
   "outputs": [
    {
     "name": "stdout",
     "output_type": "stream",
     "text": [
      "the currente valur of ETH holding is $8292.698\n"
     ]
    }
   ],
   "source": [
    "# Compute the current value of the ETH holding \n",
    "eth_value = eth_price * eth_coins\n",
    "\n",
    "# Print current value of your holding in ETH\n",
    "print(f\"the currente valur of ETH holding is ${eth_value}\")\n"
   ]
  },
  {
   "cell_type": "code",
   "execution_count": 101,
   "metadata": {},
   "outputs": [
    {
     "name": "stdout",
     "output_type": "stream",
     "text": [
      "the current cryptocurrency wallet balance is $53919.098\n"
     ]
    }
   ],
   "source": [
    "# Compute the total value of the cryptocurrency wallet\n",
    "# Add the value of the BTC holding to the value of the ETH holding\n",
    "total_crypto_wallet = btc_value + eth_value\n",
    "\n",
    "# Print current cryptocurrency wallet balance\n",
    "print(f\"the current cryptocurrency wallet balance is ${total_crypto_wallet}\")\n"
   ]
  },
  {
   "cell_type": "markdown",
   "metadata": {},
   "source": [
    "### Evaluate the Stock and Bond Holdings by Using the Alpaca SDK\n",
    "\n",
    "In this section, you’ll determine the current value of a member’s stock and bond holdings. You’ll make an API call to Alpaca via the Alpaca SDK to get the current closing prices of the SPDR S&P 500 ETF Trust (ticker: SPY) and of the iShares Core US Aggregate Bond ETF (ticker: AGG). For the prototype, assume that the member holds 110 shares of SPY, which represents the stock portion of their portfolio, and 200 shares of AGG, which represents the bond portion. To do all this, complete the following steps:\n",
    "\n",
    "1. In the `Starter_Code` folder, create an environment file (`.env`) to store the values of your Alpaca API key and Alpaca secret key.\n",
    "\n",
    "2. Set the variables for the Alpaca API and secret keys. Using the Alpaca SDK, create the Alpaca `tradeapi.REST` object. In this object, include the parameters for the Alpaca API key, the secret key, and the version number.\n",
    "\n",
    "3. Set the following parameters for the Alpaca API call:\n",
    "\n",
    "    - `tickers`: Use the tickers for the member’s stock and bond holdings.\n",
    "\n",
    "    - `timeframe`: Use a time frame of one day.\n",
    "\n",
    "    - `start_date` and `end_date`: Use the same date for these parameters, and format them with the date of the previous weekday (or `2020-08-07`). This is because you want the one closing price for the most-recent trading day.\n",
    "\n",
    "4. Get the current closing prices for `SPY` and `AGG` by using the Alpaca `get_barset` function. Format the response as a Pandas DataFrame by including the `df` property at the end of the `get_barset` function.\n",
    "\n",
    "5. Navigating the Alpaca response DataFrame, select the `SPY` and `AGG` closing prices, and store them as variables.\n",
    "\n",
    "6. Calculate the value, in US dollars, of the current amount of shares in each of the stock and bond portions of the portfolio, and print the results.\n"
   ]
  },
  {
   "cell_type": "markdown",
   "metadata": {},
   "source": [
    "#### Review the total number of shares held in both (SPY) and (AGG)."
   ]
  },
  {
   "cell_type": "code",
   "execution_count": 102,
   "metadata": {},
   "outputs": [],
   "source": [
    "# Current amount of shares held in both the stock (SPY) and bond (AGG) portion of the portfolio.\n",
    "spy_shares = 110\n",
    "agg_shares = 200\n"
   ]
  },
  {
   "cell_type": "markdown",
   "metadata": {},
   "source": [
    "#### Step 1: In the `Starter_Code` folder, create an environment file (`.env`) to store the values of your Alpaca API key and Alpaca secret key."
   ]
  },
  {
   "cell_type": "markdown",
   "metadata": {},
   "source": [
    "#### Step 2: Set the variables for the Alpaca API and secret keys. Using the Alpaca SDK, create the Alpaca `tradeapi.REST` object. In this object, include the parameters for the Alpaca API key, the secret key, and the version number."
   ]
  },
  {
   "cell_type": "code",
   "execution_count": 103,
   "metadata": {},
   "outputs": [],
   "source": [
    "# Set the variables for the Alpaca API and secret keys\n",
    "alpaca_api_key = os.getenv(\"ALPACA_API_KEY\")\n",
    "alpaca_secret_key = os.getenv(\"ALPACA_SECRET_KEY\")\n",
    "# YOUR CODE HERE\n",
    "\n",
    "# Create the Alpaca tradeapi.REST object\n",
    "alpaca = tradeapi.REST(alpaca_api_key, alpaca_secret_key, api_version = \"v2\")\n"
   ]
  },
  {
   "cell_type": "markdown",
   "metadata": {},
   "source": [
    "#### Step 3: Set the following parameters for the Alpaca API call:\n",
    "\n",
    "- `tickers`: Use the tickers for the member’s stock and bond holdings.\n",
    "\n",
    "- `timeframe`: Use a time frame of one day.\n",
    "\n",
    "- `start_date` and `end_date`: Use the same date for these parameters, and format them with the date of the previous weekday (or `2020-08-07`). This is because you want the one closing price for the most-recent trading day.\n"
   ]
  },
  {
   "cell_type": "code",
   "execution_count": 104,
   "metadata": {},
   "outputs": [],
   "source": [
    "# Set the tickers for both the bond and stock portion of the portfolio\n",
    "# YOUR CODE HERE\n",
    "tickers = [\"SPY\", \"AGG\"]\n",
    "# Set timeframe to 1D \n",
    "# YOUR CODE HERE\n",
    "timeframe = \"1D\"\n",
    "# Format current date as ISO format\n",
    "# Set both the start and end date at the date of your prior weekday \n",
    "# This will give you the closing price of the previous trading day\n",
    "# Alternatively you can use a start and end date of 2020-08-07\n",
    "start_date = pd.Timestamp( \"2021-02-05\", tz= \"America/Los_Angeles\").isoformat()\n",
    "end_date = pd.Timestamp( \"2021-02-05\", tz= \"America/Los_Angeles\").isoformat()"
   ]
  },
  {
   "cell_type": "markdown",
   "metadata": {},
   "source": [
    "#### Step 4: Get the current closing prices for `SPY` and `AGG` by using the Alpaca `get_barset` function. Format the response as a Pandas DataFrame by including the `df` property at the end of the `get_barset` function."
   ]
  },
  {
   "cell_type": "code",
   "execution_count": 105,
   "metadata": {},
   "outputs": [
    {
     "data": {
      "text/html": [
       "<div>\n",
       "<style scoped>\n",
       "    .dataframe tbody tr th:only-of-type {\n",
       "        vertical-align: middle;\n",
       "    }\n",
       "\n",
       "    .dataframe tbody tr th {\n",
       "        vertical-align: top;\n",
       "    }\n",
       "\n",
       "    .dataframe thead tr th {\n",
       "        text-align: left;\n",
       "    }\n",
       "\n",
       "    .dataframe thead tr:last-of-type th {\n",
       "        text-align: right;\n",
       "    }\n",
       "</style>\n",
       "<table border=\"1\" class=\"dataframe\">\n",
       "  <thead>\n",
       "    <tr>\n",
       "      <th></th>\n",
       "      <th colspan=\"5\" halign=\"left\">AGG</th>\n",
       "      <th colspan=\"5\" halign=\"left\">SPY</th>\n",
       "    </tr>\n",
       "    <tr>\n",
       "      <th></th>\n",
       "      <th>open</th>\n",
       "      <th>high</th>\n",
       "      <th>low</th>\n",
       "      <th>close</th>\n",
       "      <th>volume</th>\n",
       "      <th>open</th>\n",
       "      <th>high</th>\n",
       "      <th>low</th>\n",
       "      <th>close</th>\n",
       "      <th>volume</th>\n",
       "    </tr>\n",
       "    <tr>\n",
       "      <th>time</th>\n",
       "      <th></th>\n",
       "      <th></th>\n",
       "      <th></th>\n",
       "      <th></th>\n",
       "      <th></th>\n",
       "      <th></th>\n",
       "      <th></th>\n",
       "      <th></th>\n",
       "      <th></th>\n",
       "      <th></th>\n",
       "    </tr>\n",
       "  </thead>\n",
       "  <tbody>\n",
       "    <tr>\n",
       "      <th>2021-02-05 00:00:00-05:00</th>\n",
       "      <td>116.91</td>\n",
       "      <td>116.96</td>\n",
       "      <td>116.7</td>\n",
       "      <td>116.72</td>\n",
       "      <td>3230833</td>\n",
       "      <td>388.2</td>\n",
       "      <td>388.47</td>\n",
       "      <td>386.1444</td>\n",
       "      <td>387.68</td>\n",
       "      <td>39312522</td>\n",
       "    </tr>\n",
       "  </tbody>\n",
       "</table>\n",
       "</div>"
      ],
      "text/plain": [
       "                              AGG                                    SPY  \\\n",
       "                             open    high    low   close   volume   open   \n",
       "time                                                                       \n",
       "2021-02-05 00:00:00-05:00  116.91  116.96  116.7  116.72  3230833  388.2   \n",
       "\n",
       "                                                               \n",
       "                             high       low   close    volume  \n",
       "time                                                           \n",
       "2021-02-05 00:00:00-05:00  388.47  386.1444  387.68  39312522  "
      ]
     },
     "execution_count": 105,
     "metadata": {},
     "output_type": "execute_result"
    }
   ],
   "source": [
    "# Use the Alpaca get_barset function to get current closing prices the portfolio\n",
    "# Be sure to set the `df` property after the function to format the response object as a DataFrame\n",
    "df_portfolio = alpaca.get_barset(tickers, timeframe, start = start_date, end = end_date).df\n",
    "\n",
    "# Review the first 5 rows of the Alpaca DataFrame\n",
    "df_portfolio.head()\n"
   ]
  },
  {
   "cell_type": "markdown",
   "metadata": {},
   "source": [
    "#### Step 5: Navigating the Alpaca response DataFrame, select the `SPY` and `AGG` closing prices, and store them as variables."
   ]
  },
  {
   "cell_type": "code",
   "execution_count": 106,
   "metadata": {},
   "outputs": [
    {
     "name": "stdout",
     "output_type": "stream",
     "text": [
      "116.72\n"
     ]
    }
   ],
   "source": [
    "# Access the closing price for AGG from the Alpaca DataFrame\n",
    "# Converting the value to a floating point number\n",
    "agg_close_price = float(df_portfolio['AGG']['close'])\n",
    "\n",
    "# Print the AGG closing price\n",
    "print(agg_close_price)\n"
   ]
  },
  {
   "cell_type": "code",
   "execution_count": 107,
   "metadata": {},
   "outputs": [
    {
     "name": "stdout",
     "output_type": "stream",
     "text": [
      "387.68\n"
     ]
    }
   ],
   "source": [
    "# Access the closing price for SPY from the Alpaca DataFrame\n",
    "# Converting the value to a floating point number\n",
    "spy_close_price = float(df_portfolio[\"SPY\"][\"close\"])\n",
    "\n",
    "# Print the SPY closing price\n",
    "print(spy_close_price)\n"
   ]
  },
  {
   "cell_type": "markdown",
   "metadata": {},
   "source": [
    "#### Step 6: Calculate the value, in US dollars, of the current amount of shares in each of the stock and bond portions of the portfolio, and print the results."
   ]
  },
  {
   "cell_type": "code",
   "execution_count": 108,
   "metadata": {},
   "outputs": [
    {
     "name": "stdout",
     "output_type": "stream",
     "text": [
      "23344.0\n"
     ]
    }
   ],
   "source": [
    "# Calculate the current value of the bond portion of the portfolio\n",
    "agg_value = agg_close_price * agg_shares\n",
    "\n",
    "# Print the current value of the bond portfolio\n",
    "print(agg_value)\n"
   ]
  },
  {
   "cell_type": "code",
   "execution_count": 109,
   "metadata": {},
   "outputs": [
    {
     "name": "stdout",
     "output_type": "stream",
     "text": [
      "42644.8\n"
     ]
    }
   ],
   "source": [
    "# Calculate the current value of the stock portion of the portfolio\n",
    "spy_value = spy_close_price * spy_shares\n",
    "\n",
    "# Print the current value of the stock portfolio\n",
    "print(spy_value)"
   ]
  },
  {
   "cell_type": "code",
   "execution_count": 110,
   "metadata": {},
   "outputs": [
    {
     "name": "stdout",
     "output_type": "stream",
     "text": [
      "65988.8\n"
     ]
    }
   ],
   "source": [
    "# Calculate the total value of the stock and bond portion of the portfolio\n",
    "total_stocks_bonds = agg_value + spy_value\n",
    "\n",
    "# Print the current balance of the stock and bond portion of the portfolio\n",
    "print(total_stocks_bonds)\n"
   ]
  },
  {
   "cell_type": "code",
   "execution_count": 111,
   "metadata": {},
   "outputs": [
    {
     "name": "stdout",
     "output_type": "stream",
     "text": [
      "119907.898\n"
     ]
    }
   ],
   "source": [
    "# Calculate the total value of the member's entire savings portfolio\n",
    "# Add the value of the cryptocurrency walled to the value of the total stocks and bonds\n",
    "total_portfolio = total_stocks_bonds + total_crypto_wallet\n",
    "\n",
    "# Print current cryptocurrency wallet balance\n",
    "print(total_portfolio)\n"
   ]
  },
  {
   "cell_type": "markdown",
   "metadata": {},
   "source": [
    "### Evaluate the Emergency Fund\n",
    "\n",
    "In this section, you’ll use the valuations for the cryptocurrency wallet and for the stock and bond portions of the portfolio to determine if the credit union member has enough savings to build an emergency fund into their financial plan. To do this, complete the following steps:\n",
    "\n",
    "1. Create a Python list named `savings_data` that has two elements. The first element contains the total value of the cryptocurrency wallet. The second element contains the total value of the stock and bond portions of the portfolio.\n",
    "\n",
    "2. Use the `savings_data` list to create a Pandas DataFrame named `savings_df`, and then display this DataFrame. The function to create the DataFrame should take the following three parameters:\n",
    "\n",
    "    - `savings_data`: Use the list that you just created.\n",
    "\n",
    "    - `columns`: Set this parameter equal to a Python list with a single value called `amount`.\n",
    "\n",
    "    - `index`: Set this parameter equal to a Python list with the values of `crypto` and `stock/bond`.\n",
    "\n",
    "3. Use the `savings_df` DataFrame to plot a pie chart that visualizes the composition of the member’s portfolio. The y-axis of the pie chart uses `amount`. Be sure to add a title.\n",
    "\n",
    "4. Using Python, determine if the current portfolio has enough to create an emergency fund as part of the member’s financial plan. Ideally, an emergency fund should equal to three times the member’s monthly income. To do this, implement the following steps:\n",
    "\n",
    "    1. Create a variable named `emergency_fund_value`, and set it equal to three times the value of the member’s `monthly_income` of $12000. (You set this earlier in Part 1).\n",
    "\n",
    "    2. Create a series of three if statements to determine if the member’s total portfolio is large enough to fund the emergency portfolio:\n",
    "\n",
    "        1. If the total portfolio value is greater than the emergency fund value, display a message congratulating the member for having enough money in this fund.\n",
    "\n",
    "        2. Else if the total portfolio value is equal to the emergency fund value, display a message congratulating the member on reaching this important financial goal.\n",
    "\n",
    "        3. Else the total portfolio is less than the emergency fund value, so display a message showing how many dollars away the member is from reaching the goal. (Subtract the total portfolio value from the emergency fund value.)\n"
   ]
  },
  {
   "cell_type": "markdown",
   "metadata": {},
   "source": [
    "#### Step 1: Create a Python list named `savings_data` that has two elements. The first element contains the total value of the cryptocurrency wallet. The second element contains the total value of the stock and bond portions of the portfolio."
   ]
  },
  {
   "cell_type": "code",
   "execution_count": 112,
   "metadata": {},
   "outputs": [
    {
     "name": "stdout",
     "output_type": "stream",
     "text": [
      "['crypto', 'stock_bond']\n"
     ]
    }
   ],
   "source": [
    "# Consolidate financial assets data into a Python list\n",
    "savings_data = [\"crypto\", \"stock_bond\"]\n",
    "\n",
    "# Review the Python list savings_data\n",
    "# YOUR CODE HERE\n",
    "print(savings_data)"
   ]
  },
  {
   "cell_type": "markdown",
   "metadata": {},
   "source": [
    "#### Step 2: Use the `savings_data` list to create a Pandas DataFrame named `savings_df`, and then display this DataFrame. The function to create the DataFrame should take the following three parameters:\n",
    "\n",
    "- `savings_data`: Use the list that you just created.\n",
    "\n",
    "- `columns`: Set this parameter equal to a Python list with a single value called `amount`.\n",
    "\n",
    "- `index`: Set this parameter equal to a Python list with the values of `crypto` and `stock/bond`.\n"
   ]
  },
  {
   "cell_type": "code",
   "execution_count": 113,
   "metadata": {},
   "outputs": [
    {
     "data": {
      "text/html": [
       "<div>\n",
       "<style scoped>\n",
       "    .dataframe tbody tr th:only-of-type {\n",
       "        vertical-align: middle;\n",
       "    }\n",
       "\n",
       "    .dataframe tbody tr th {\n",
       "        vertical-align: top;\n",
       "    }\n",
       "\n",
       "    .dataframe thead th {\n",
       "        text-align: right;\n",
       "    }\n",
       "</style>\n",
       "<table border=\"1\" class=\"dataframe\">\n",
       "  <thead>\n",
       "    <tr style=\"text-align: right;\">\n",
       "      <th></th>\n",
       "      <th>amount</th>\n",
       "    </tr>\n",
       "  </thead>\n",
       "  <tbody>\n",
       "    <tr>\n",
       "      <th>crypto</th>\n",
       "      <td>53919.098</td>\n",
       "    </tr>\n",
       "    <tr>\n",
       "      <th>stock_bond</th>\n",
       "      <td>65988.800</td>\n",
       "    </tr>\n",
       "  </tbody>\n",
       "</table>\n",
       "</div>"
      ],
      "text/plain": [
       "               amount\n",
       "crypto      53919.098\n",
       "stock_bond  65988.800"
      ]
     },
     "execution_count": 113,
     "metadata": {},
     "output_type": "execute_result"
    }
   ],
   "source": [
    "# Create a Pandas DataFrame called savings_df \n",
    "savings_df = pd.DataFrame(\n",
    "    {'amount':[total_crypto_wallet, total_stocks_bonds]}, index = savings_data)\n",
    "\n",
    "\n",
    "# Display the savings_df DataFrame\n",
    "# YOUR CODE HERE\n",
    "savings_df"
   ]
  },
  {
   "cell_type": "markdown",
   "metadata": {},
   "source": [
    "#### Step 3: Use the `savings_df` DataFrame to plot a pie chart that visualizes the composition of the member’s portfolio. The y-axis of the pie chart uses `amount`. Be sure to add a title."
   ]
  },
  {
   "cell_type": "code",
   "execution_count": 114,
   "metadata": {},
   "outputs": [
    {
     "data": {
      "text/plain": [
       "<AxesSubplot:title={'center':'Portfolio Composition Pie Chart'}, ylabel='amount'>"
      ]
     },
     "execution_count": 114,
     "metadata": {},
     "output_type": "execute_result"
    },
    {
     "data": {
      "image/png": "[encoded data removed]",
      "text/plain": [
       "<Figure size 432x288 with 1 Axes>"
      ]
     },
     "metadata": {},
     "output_type": "display_data"
    }
   ],
   "source": [
    "# Plot the total value of the member's portfolio (crypto and stock/bond) in a pie chart\n",
    "# YOUR CODE HERE\n",
    "\n",
    "# Plot the total value of the member's portfolio (crypto and stock/bond) in a pie chart\n",
    "\n",
    "savings_df.plot.pie(y='amount', title = \"Portfolio Composition Pie Chart\")"
   ]
  },
  {
   "cell_type": "markdown",
   "metadata": {},
   "source": [
    "#### Step 4: Using Python, determine if the current portfolio has enough to create an emergency fund as part of the member’s financial plan. Ideally, an emergency fund should equal to three times the member’s monthly income. To do this, implement the following steps:\n",
    "\n",
    "Step 1. Create a variable named `emergency_fund_value`, and set it equal to three times the value of the member’s `monthly_income` of 12000. (You set this earlier in Part 1).\n",
    "\n",
    "Step 2. Create a series of three if statements to determine if the member’s total portfolio is large enough to fund the emergency portfolio:\n",
    "\n",
    "* If the total portfolio value is greater than the emergency fund value, display a message congratulating the member for having enough money in this fund.\n",
    "\n",
    "* Else if the total portfolio value is equal to the emergency fund value, display a message congratulating the member on reaching this important financial goal.\n",
    "\n",
    "* Else the total portfolio is less than the emergency fund value, so display a message showing how many dollars away the member is from reaching the goal. (Subtract the total portfolio value from the emergency fund value.)\n"
   ]
  },
  {
   "cell_type": "markdown",
   "metadata": {},
   "source": [
    "##### Step 4-1: Create a variable named `emergency_fund_value`, and set it equal to three times the value of the member’s `monthly_income` of 12000. (You set this earlier in Part 1)."
   ]
  },
  {
   "cell_type": "code",
   "execution_count": 115,
   "metadata": {},
   "outputs": [],
   "source": [
    "# Create a variable named emergency_fund_value\n",
    "emergency_fund_value = monthly_income\n"
   ]
  },
  {
   "cell_type": "markdown",
   "metadata": {},
   "source": [
    "##### Step 4-2: Create a series of three if statements to determine if the member’s total portfolio is large enough to fund the emergency portfolio:\n",
    "\n",
    "* If the total portfolio value is greater than the emergency fund value, display a message congratulating the member for having enough money in this fund.\n",
    "\n",
    "* Else if the total portfolio value is equal to the emergency fund value, display a message congratulating the member on reaching this important financial goal.\n",
    "\n",
    "* Else the total portfolio is less than the emergency fund value, so display a message showing how many dollars away the member is from reaching the goal. (Subtract the total portfolio value from the emergency fund value.)"
   ]
  },
  {
   "cell_type": "code",
   "execution_count": 116,
   "metadata": {},
   "outputs": [
    {
     "name": "stdout",
     "output_type": "stream",
     "text": [
      "Congratulations you have enough money in this fund.\n"
     ]
    }
   ],
   "source": [
    "# Evaluate the possibility of creating an emergency fund with 3 conditions:\n",
    "if total_portfolio > emergency_fund_value: \n",
    "    print(\"Congratulations you have enough money in this fund.\")\n",
    "elif total_portfolio == emergency_fund_value: \n",
    "    print(\"You reached a importante financial goal\")\n",
    "else: \n",
    "    print(f\"You need ${emergency_fund_value - total_portfolio}, to achive tour goal\")\n"
   ]
  },
  {
   "cell_type": "markdown",
   "metadata": {},
   "source": [
    "## Part 2: Create a Financial Planner for Retirement"
   ]
  },
  {
   "cell_type": "markdown",
   "metadata": {},
   "source": [
    "### Create the Monte Carlo Simulation\n",
    "\n",
    "In this section, you’ll use the MCForecastTools library to create a Monte Carlo simulation for the member’s savings portfolio. To do this, complete the following steps:\n",
    "\n",
    "1. Make an API call via the Alpaca SDK to get 10 years of historical closing prices for a traditional 60/40 portfolio split: 60% stocks (SPY) and 40% bonds (AGG).\n",
    "\n",
    "2. Run a Monte Carlo simulation of 500 samples and 30 years for the 60/40 portfolio, and then plot the results.The following image shows the overlay line plot resulting from a simulation with these characteristics. However, because a random number generator is used to run each live Monte Carlo simulation, your image will differ slightly from this exact image:\n",
    "\n",
    "![A screenshot depicts the resulting plot.](Images/5-4-monte-carlo-line-plot.png)\n",
    "\n",
    "3. Plot the probability distribution of the Monte Carlo simulation. Plot the probability distribution of the Monte Carlo simulation. The following image shows the histogram plot resulting from a simulation with these characteristics. However, because a random number generator is used to run each live Monte Carlo simulation, your image will differ slightly from this exact image:\n",
    "\n",
    "![A screenshot depicts the histogram plot.](Images/5-4-monte-carlo-histogram.png)\n",
    "\n",
    "4. Generate the summary statistics for the Monte Carlo simulation.\n",
    "\n"
   ]
  },
  {
   "cell_type": "markdown",
   "metadata": {},
   "source": [
    "#### Step 1: Make an API call via the Alpaca SDK to get 10 years of historical closing prices for a traditional 60/40 portfolio split: 60% stocks (SPY) and 40% bonds (AGG)."
   ]
  },
  {
   "cell_type": "code",
   "execution_count": 143,
   "metadata": {},
   "outputs": [],
   "source": [
    "# Set start and end dates of 10 years back from your current date\n",
    "# Alternatively, you can use an end date of 2020-08-07 and work 10 years back from that date \n",
    "start_date = pd.Timestamp(\"2011-01-29\", tz=\"America/Los_Angeles\").isoformat()\n",
    "end_date = pd.Timestamp(\"2021-01-29\", tz=\"America/Los_Angeles\").isoformat()\n"
   ]
  },
  {
   "cell_type": "code",
   "execution_count": 144,
   "metadata": {},
   "outputs": [
    {
     "data": {
      "text/html": [
       "<div>\n",
       "<style scoped>\n",
       "    .dataframe tbody tr th:only-of-type {\n",
       "        vertical-align: middle;\n",
       "    }\n",
       "\n",
       "    .dataframe tbody tr th {\n",
       "        vertical-align: top;\n",
       "    }\n",
       "\n",
       "    .dataframe thead tr th {\n",
       "        text-align: left;\n",
       "    }\n",
       "\n",
       "    .dataframe thead tr:last-of-type th {\n",
       "        text-align: right;\n",
       "    }\n",
       "</style>\n",
       "<table border=\"1\" class=\"dataframe\">\n",
       "  <thead>\n",
       "    <tr>\n",
       "      <th></th>\n",
       "      <th colspan=\"5\" halign=\"left\">AGG</th>\n",
       "      <th colspan=\"5\" halign=\"left\">SPY</th>\n",
       "    </tr>\n",
       "    <tr>\n",
       "      <th></th>\n",
       "      <th>open</th>\n",
       "      <th>high</th>\n",
       "      <th>low</th>\n",
       "      <th>close</th>\n",
       "      <th>volume</th>\n",
       "      <th>open</th>\n",
       "      <th>high</th>\n",
       "      <th>low</th>\n",
       "      <th>close</th>\n",
       "      <th>volume</th>\n",
       "    </tr>\n",
       "    <tr>\n",
       "      <th>time</th>\n",
       "      <th></th>\n",
       "      <th></th>\n",
       "      <th></th>\n",
       "      <th></th>\n",
       "      <th></th>\n",
       "      <th></th>\n",
       "      <th></th>\n",
       "      <th></th>\n",
       "      <th></th>\n",
       "      <th></th>\n",
       "    </tr>\n",
       "  </thead>\n",
       "  <tbody>\n",
       "    <tr>\n",
       "      <th>2020-09-08 00:00:00-04:00</th>\n",
       "      <td>118.34</td>\n",
       "      <td>118.46</td>\n",
       "      <td>118.200</td>\n",
       "      <td>118.23</td>\n",
       "      <td>11938683</td>\n",
       "      <td>336.71</td>\n",
       "      <td>342.64</td>\n",
       "      <td>332.8800</td>\n",
       "      <td>333.26</td>\n",
       "      <td>196953429</td>\n",
       "    </tr>\n",
       "    <tr>\n",
       "      <th>2020-09-09 00:00:00-04:00</th>\n",
       "      <td>118.39</td>\n",
       "      <td>118.39</td>\n",
       "      <td>118.040</td>\n",
       "      <td>118.19</td>\n",
       "      <td>10977908</td>\n",
       "      <td>337.55</td>\n",
       "      <td>342.46</td>\n",
       "      <td>336.6100</td>\n",
       "      <td>339.76</td>\n",
       "      <td>156548054</td>\n",
       "    </tr>\n",
       "    <tr>\n",
       "      <th>2020-09-10 00:00:00-04:00</th>\n",
       "      <td>118.11</td>\n",
       "      <td>118.29</td>\n",
       "      <td>118.015</td>\n",
       "      <td>118.23</td>\n",
       "      <td>8259876</td>\n",
       "      <td>341.57</td>\n",
       "      <td>342.53</td>\n",
       "      <td>332.8500</td>\n",
       "      <td>333.92</td>\n",
       "      <td>150853677</td>\n",
       "    </tr>\n",
       "    <tr>\n",
       "      <th>2020-09-11 00:00:00-04:00</th>\n",
       "      <td>118.42</td>\n",
       "      <td>118.49</td>\n",
       "      <td>118.240</td>\n",
       "      <td>118.36</td>\n",
       "      <td>11853287</td>\n",
       "      <td>335.82</td>\n",
       "      <td>336.97</td>\n",
       "      <td>331.0000</td>\n",
       "      <td>334.08</td>\n",
       "      <td>140223556</td>\n",
       "    </tr>\n",
       "    <tr>\n",
       "      <th>2020-09-14 00:00:00-04:00</th>\n",
       "      <td>118.47</td>\n",
       "      <td>118.49</td>\n",
       "      <td>118.310</td>\n",
       "      <td>118.37</td>\n",
       "      <td>11222770</td>\n",
       "      <td>337.49</td>\n",
       "      <td>340.38</td>\n",
       "      <td>334.2208</td>\n",
       "      <td>338.42</td>\n",
       "      <td>109684157</td>\n",
       "    </tr>\n",
       "  </tbody>\n",
       "</table>\n",
       "</div>"
      ],
      "text/plain": [
       "                              AGG                                        SPY  \\\n",
       "                             open    high      low   close    volume    open   \n",
       "time                                                                           \n",
       "2020-09-08 00:00:00-04:00  118.34  118.46  118.200  118.23  11938683  336.71   \n",
       "2020-09-09 00:00:00-04:00  118.39  118.39  118.040  118.19  10977908  337.55   \n",
       "2020-09-10 00:00:00-04:00  118.11  118.29  118.015  118.23   8259876  341.57   \n",
       "2020-09-11 00:00:00-04:00  118.42  118.49  118.240  118.36  11853287  335.82   \n",
       "2020-09-14 00:00:00-04:00  118.47  118.49  118.310  118.37  11222770  337.49   \n",
       "\n",
       "                                                                \n",
       "                             high       low   close     volume  \n",
       "time                                                            \n",
       "2020-09-08 00:00:00-04:00  342.64  332.8800  333.26  196953429  \n",
       "2020-09-09 00:00:00-04:00  342.46  336.6100  339.76  156548054  \n",
       "2020-09-10 00:00:00-04:00  342.53  332.8500  333.92  150853677  \n",
       "2020-09-11 00:00:00-04:00  336.97  331.0000  334.08  140223556  \n",
       "2020-09-14 00:00:00-04:00  340.38  334.2208  338.42  109684157  "
      ]
     },
     "metadata": {},
     "output_type": "display_data"
    },
    {
     "data": {
      "text/html": [
       "<div>\n",
       "<style scoped>\n",
       "    .dataframe tbody tr th:only-of-type {\n",
       "        vertical-align: middle;\n",
       "    }\n",
       "\n",
       "    .dataframe tbody tr th {\n",
       "        vertical-align: top;\n",
       "    }\n",
       "\n",
       "    .dataframe thead tr th {\n",
       "        text-align: left;\n",
       "    }\n",
       "\n",
       "    .dataframe thead tr:last-of-type th {\n",
       "        text-align: right;\n",
       "    }\n",
       "</style>\n",
       "<table border=\"1\" class=\"dataframe\">\n",
       "  <thead>\n",
       "    <tr>\n",
       "      <th></th>\n",
       "      <th colspan=\"5\" halign=\"left\">AGG</th>\n",
       "      <th colspan=\"5\" halign=\"left\">SPY</th>\n",
       "    </tr>\n",
       "    <tr>\n",
       "      <th></th>\n",
       "      <th>open</th>\n",
       "      <th>high</th>\n",
       "      <th>low</th>\n",
       "      <th>close</th>\n",
       "      <th>volume</th>\n",
       "      <th>open</th>\n",
       "      <th>high</th>\n",
       "      <th>low</th>\n",
       "      <th>close</th>\n",
       "      <th>volume</th>\n",
       "    </tr>\n",
       "    <tr>\n",
       "      <th>time</th>\n",
       "      <th></th>\n",
       "      <th></th>\n",
       "      <th></th>\n",
       "      <th></th>\n",
       "      <th></th>\n",
       "      <th></th>\n",
       "      <th></th>\n",
       "      <th></th>\n",
       "      <th></th>\n",
       "      <th></th>\n",
       "    </tr>\n",
       "  </thead>\n",
       "  <tbody>\n",
       "    <tr>\n",
       "      <th>2021-01-25 00:00:00-05:00</th>\n",
       "      <td>117.3900</td>\n",
       "      <td>117.560</td>\n",
       "      <td>117.3600</td>\n",
       "      <td>117.54</td>\n",
       "      <td>3977366</td>\n",
       "      <td>383.67</td>\n",
       "      <td>384.77</td>\n",
       "      <td>378.46</td>\n",
       "      <td>384.40</td>\n",
       "      <td>61090775</td>\n",
       "    </tr>\n",
       "    <tr>\n",
       "      <th>2021-01-26 00:00:00-05:00</th>\n",
       "      <td>117.4600</td>\n",
       "      <td>117.585</td>\n",
       "      <td>117.4255</td>\n",
       "      <td>117.51</td>\n",
       "      <td>3451493</td>\n",
       "      <td>385.41</td>\n",
       "      <td>385.85</td>\n",
       "      <td>383.54</td>\n",
       "      <td>383.83</td>\n",
       "      <td>36871235</td>\n",
       "    </tr>\n",
       "    <tr>\n",
       "      <th>2021-01-27 00:00:00-05:00</th>\n",
       "      <td>117.6100</td>\n",
       "      <td>117.670</td>\n",
       "      <td>117.0400</td>\n",
       "      <td>117.52</td>\n",
       "      <td>3509666</td>\n",
       "      <td>380.22</td>\n",
       "      <td>380.32</td>\n",
       "      <td>372.01</td>\n",
       "      <td>374.44</td>\n",
       "      <td>99246554</td>\n",
       "    </tr>\n",
       "    <tr>\n",
       "      <th>2021-01-28 00:00:00-05:00</th>\n",
       "      <td>117.4800</td>\n",
       "      <td>117.490</td>\n",
       "      <td>117.2900</td>\n",
       "      <td>117.43</td>\n",
       "      <td>4440895</td>\n",
       "      <td>376.36</td>\n",
       "      <td>381.93</td>\n",
       "      <td>375.89</td>\n",
       "      <td>377.60</td>\n",
       "      <td>75229306</td>\n",
       "    </tr>\n",
       "    <tr>\n",
       "      <th>2021-01-29 00:00:00-05:00</th>\n",
       "      <td>117.1563</td>\n",
       "      <td>117.400</td>\n",
       "      <td>116.5625</td>\n",
       "      <td>117.32</td>\n",
       "      <td>7119889</td>\n",
       "      <td>375.63</td>\n",
       "      <td>376.67</td>\n",
       "      <td>368.27</td>\n",
       "      <td>370.19</td>\n",
       "      <td>106397082</td>\n",
       "    </tr>\n",
       "  </tbody>\n",
       "</table>\n",
       "</div>"
      ],
      "text/plain": [
       "                                AGG                                      \\\n",
       "                               open     high       low   close   volume   \n",
       "time                                                                      \n",
       "2021-01-25 00:00:00-05:00  117.3900  117.560  117.3600  117.54  3977366   \n",
       "2021-01-26 00:00:00-05:00  117.4600  117.585  117.4255  117.51  3451493   \n",
       "2021-01-27 00:00:00-05:00  117.6100  117.670  117.0400  117.52  3509666   \n",
       "2021-01-28 00:00:00-05:00  117.4800  117.490  117.2900  117.43  4440895   \n",
       "2021-01-29 00:00:00-05:00  117.1563  117.400  116.5625  117.32  7119889   \n",
       "\n",
       "                              SPY                                     \n",
       "                             open    high     low   close     volume  \n",
       "time                                                                  \n",
       "2021-01-25 00:00:00-05:00  383.67  384.77  378.46  384.40   61090775  \n",
       "2021-01-26 00:00:00-05:00  385.41  385.85  383.54  383.83   36871235  \n",
       "2021-01-27 00:00:00-05:00  380.22  380.32  372.01  374.44   99246554  \n",
       "2021-01-28 00:00:00-05:00  376.36  381.93  375.89  377.60   75229306  \n",
       "2021-01-29 00:00:00-05:00  375.63  376.67  368.27  370.19  106397082  "
      ]
     },
     "metadata": {},
     "output_type": "display_data"
    }
   ],
   "source": [
    "# Use the Alpaca get_barset function to make the API call to get the 10 years worth of pricing data\n",
    "# The tickers and timeframe parameters should have been set in Part 1 of this activity \n",
    "# The start and end dates should be updated with the information set above\n",
    "# Remember to add the df property to the end of the call so the response is returned as a DataFrame\n",
    "ten_years_df = alpaca.get_barset(\n",
    "    tickers,\n",
    "    timeframe,\n",
    "    start=start_date,\n",
    "    end=end_date\n",
    ").df\n",
    "\n",
    "\n",
    "# Display both the first and last five rows of the DataFrame\n",
    "display(ten_years_df.head())\n",
    "display(ten_years_df.tail())\n"
   ]
  },
  {
   "cell_type": "markdown",
   "metadata": {},
   "source": [
    "#### Step 2: Run a Monte Carlo simulation of 500 samples and 30 years for the 60/40 portfolio, and then plot the results."
   ]
  },
  {
   "cell_type": "code",
   "execution_count": 145,
   "metadata": {},
   "outputs": [
    {
     "data": {
      "text/html": [
       "<div>\n",
       "<style scoped>\n",
       "    .dataframe tbody tr th:only-of-type {\n",
       "        vertical-align: middle;\n",
       "    }\n",
       "\n",
       "    .dataframe tbody tr th {\n",
       "        vertical-align: top;\n",
       "    }\n",
       "\n",
       "    .dataframe thead tr th {\n",
       "        text-align: left;\n",
       "    }\n",
       "\n",
       "    .dataframe thead tr:last-of-type th {\n",
       "        text-align: right;\n",
       "    }\n",
       "</style>\n",
       "<table border=\"1\" class=\"dataframe\">\n",
       "  <thead>\n",
       "    <tr>\n",
       "      <th></th>\n",
       "      <th colspan=\"6\" halign=\"left\">AGG</th>\n",
       "      <th colspan=\"6\" halign=\"left\">SPY</th>\n",
       "    </tr>\n",
       "    <tr>\n",
       "      <th></th>\n",
       "      <th>open</th>\n",
       "      <th>high</th>\n",
       "      <th>low</th>\n",
       "      <th>close</th>\n",
       "      <th>volume</th>\n",
       "      <th>daily_return</th>\n",
       "      <th>open</th>\n",
       "      <th>high</th>\n",
       "      <th>low</th>\n",
       "      <th>close</th>\n",
       "      <th>volume</th>\n",
       "      <th>daily_return</th>\n",
       "    </tr>\n",
       "    <tr>\n",
       "      <th>time</th>\n",
       "      <th></th>\n",
       "      <th></th>\n",
       "      <th></th>\n",
       "      <th></th>\n",
       "      <th></th>\n",
       "      <th></th>\n",
       "      <th></th>\n",
       "      <th></th>\n",
       "      <th></th>\n",
       "      <th></th>\n",
       "      <th></th>\n",
       "      <th></th>\n",
       "    </tr>\n",
       "  </thead>\n",
       "  <tbody>\n",
       "    <tr>\n",
       "      <th>2020-09-08 00:00:00-04:00</th>\n",
       "      <td>118.34</td>\n",
       "      <td>118.46</td>\n",
       "      <td>118.200</td>\n",
       "      <td>118.23</td>\n",
       "      <td>11938683</td>\n",
       "      <td>NaN</td>\n",
       "      <td>336.71</td>\n",
       "      <td>342.64</td>\n",
       "      <td>332.8800</td>\n",
       "      <td>333.26</td>\n",
       "      <td>196953429</td>\n",
       "      <td>NaN</td>\n",
       "    </tr>\n",
       "    <tr>\n",
       "      <th>2020-09-09 00:00:00-04:00</th>\n",
       "      <td>118.39</td>\n",
       "      <td>118.39</td>\n",
       "      <td>118.040</td>\n",
       "      <td>118.19</td>\n",
       "      <td>10977908</td>\n",
       "      <td>-0.000338</td>\n",
       "      <td>337.55</td>\n",
       "      <td>342.46</td>\n",
       "      <td>336.6100</td>\n",
       "      <td>339.76</td>\n",
       "      <td>156548054</td>\n",
       "      <td>0.019504</td>\n",
       "    </tr>\n",
       "    <tr>\n",
       "      <th>2020-09-10 00:00:00-04:00</th>\n",
       "      <td>118.11</td>\n",
       "      <td>118.29</td>\n",
       "      <td>118.015</td>\n",
       "      <td>118.23</td>\n",
       "      <td>8259876</td>\n",
       "      <td>0.000338</td>\n",
       "      <td>341.57</td>\n",
       "      <td>342.53</td>\n",
       "      <td>332.8500</td>\n",
       "      <td>333.92</td>\n",
       "      <td>150853677</td>\n",
       "      <td>-0.017189</td>\n",
       "    </tr>\n",
       "    <tr>\n",
       "      <th>2020-09-11 00:00:00-04:00</th>\n",
       "      <td>118.42</td>\n",
       "      <td>118.49</td>\n",
       "      <td>118.240</td>\n",
       "      <td>118.36</td>\n",
       "      <td>11853287</td>\n",
       "      <td>0.001100</td>\n",
       "      <td>335.82</td>\n",
       "      <td>336.97</td>\n",
       "      <td>331.0000</td>\n",
       "      <td>334.08</td>\n",
       "      <td>140223556</td>\n",
       "      <td>0.000479</td>\n",
       "    </tr>\n",
       "    <tr>\n",
       "      <th>2020-09-14 00:00:00-04:00</th>\n",
       "      <td>118.47</td>\n",
       "      <td>118.49</td>\n",
       "      <td>118.310</td>\n",
       "      <td>118.37</td>\n",
       "      <td>11222770</td>\n",
       "      <td>0.000084</td>\n",
       "      <td>337.49</td>\n",
       "      <td>340.38</td>\n",
       "      <td>334.2208</td>\n",
       "      <td>338.42</td>\n",
       "      <td>109684157</td>\n",
       "      <td>0.012991</td>\n",
       "    </tr>\n",
       "  </tbody>\n",
       "</table>\n",
       "</div>"
      ],
      "text/plain": [
       "                              AGG                                     \\\n",
       "                             open    high      low   close    volume   \n",
       "time                                                                   \n",
       "2020-09-08 00:00:00-04:00  118.34  118.46  118.200  118.23  11938683   \n",
       "2020-09-09 00:00:00-04:00  118.39  118.39  118.040  118.19  10977908   \n",
       "2020-09-10 00:00:00-04:00  118.11  118.29  118.015  118.23   8259876   \n",
       "2020-09-11 00:00:00-04:00  118.42  118.49  118.240  118.36  11853287   \n",
       "2020-09-14 00:00:00-04:00  118.47  118.49  118.310  118.37  11222770   \n",
       "\n",
       "                                           SPY                            \\\n",
       "                          daily_return    open    high       low   close   \n",
       "time                                                                       \n",
       "2020-09-08 00:00:00-04:00          NaN  336.71  342.64  332.8800  333.26   \n",
       "2020-09-09 00:00:00-04:00    -0.000338  337.55  342.46  336.6100  339.76   \n",
       "2020-09-10 00:00:00-04:00     0.000338  341.57  342.53  332.8500  333.92   \n",
       "2020-09-11 00:00:00-04:00     0.001100  335.82  336.97  331.0000  334.08   \n",
       "2020-09-14 00:00:00-04:00     0.000084  337.49  340.38  334.2208  338.42   \n",
       "\n",
       "                                                   \n",
       "                              volume daily_return  \n",
       "time                                               \n",
       "2020-09-08 00:00:00-04:00  196953429          NaN  \n",
       "2020-09-09 00:00:00-04:00  156548054     0.019504  \n",
       "2020-09-10 00:00:00-04:00  150853677    -0.017189  \n",
       "2020-09-11 00:00:00-04:00  140223556     0.000479  \n",
       "2020-09-14 00:00:00-04:00  109684157     0.012991  "
      ]
     },
     "execution_count": 145,
     "metadata": {},
     "output_type": "execute_result"
    }
   ],
   "source": [
    "# Configure the Monte Carlo simulation to forecast 30 years cumulative returns\n",
    "# The weights should be split 40% to AGG and 60% to SPY.\n",
    "# Run 500 samples.\n",
    "MC_thirty_years = MCSimulation(\n",
    "    portfolio_data=ten_years_df,\n",
    "    weights=[0.60, 0.40],\n",
    "    num_simulation=500,\n",
    "    num_trading_days=252*30,\n",
    ")\n",
    "\n",
    "# Review the simulation input data\n",
    "MC_ten_years.portfolio_data.head()\n"
   ]
  },
  {
   "cell_type": "code",
   "execution_count": 146,
   "metadata": {},
   "outputs": [
    {
     "name": "stdout",
     "output_type": "stream",
     "text": [
      "Running Monte Carlo simulation number 0.\n",
      "Running Monte Carlo simulation number 10.\n",
      "Running Monte Carlo simulation number 20.\n",
      "Running Monte Carlo simulation number 30.\n",
      "Running Monte Carlo simulation number 40.\n",
      "Running Monte Carlo simulation number 50.\n",
      "Running Monte Carlo simulation number 60.\n",
      "Running Monte Carlo simulation number 70.\n",
      "Running Monte Carlo simulation number 80.\n",
      "Running Monte Carlo simulation number 90.\n",
      "Running Monte Carlo simulation number 100.\n",
      "Running Monte Carlo simulation number 110.\n",
      "Running Monte Carlo simulation number 120.\n",
      "Running Monte Carlo simulation number 130.\n",
      "Running Monte Carlo simulation number 140.\n",
      "Running Monte Carlo simulation number 150.\n",
      "Running Monte Carlo simulation number 160.\n",
      "Running Monte Carlo simulation number 170.\n",
      "Running Monte Carlo simulation number 180.\n",
      "Running Monte Carlo simulation number 190.\n",
      "Running Monte Carlo simulation number 200.\n",
      "Running Monte Carlo simulation number 210.\n",
      "Running Monte Carlo simulation number 220.\n",
      "Running Monte Carlo simulation number 230.\n",
      "Running Monte Carlo simulation number 240.\n",
      "Running Monte Carlo simulation number 250.\n",
      "Running Monte Carlo simulation number 260.\n",
      "Running Monte Carlo simulation number 270.\n",
      "Running Monte Carlo simulation number 280.\n",
      "Running Monte Carlo simulation number 290.\n",
      "Running Monte Carlo simulation number 300.\n",
      "Running Monte Carlo simulation number 310.\n",
      "Running Monte Carlo simulation number 320.\n",
      "Running Monte Carlo simulation number 330.\n",
      "Running Monte Carlo simulation number 340.\n",
      "Running Monte Carlo simulation number 350.\n",
      "Running Monte Carlo simulation number 360.\n",
      "Running Monte Carlo simulation number 370.\n",
      "Running Monte Carlo simulation number 380.\n",
      "Running Monte Carlo simulation number 390.\n",
      "Running Monte Carlo simulation number 400.\n",
      "Running Monte Carlo simulation number 410.\n",
      "Running Monte Carlo simulation number 420.\n",
      "Running Monte Carlo simulation number 430.\n",
      "Running Monte Carlo simulation number 440.\n",
      "Running Monte Carlo simulation number 450.\n",
      "Running Monte Carlo simulation number 460.\n",
      "Running Monte Carlo simulation number 470.\n",
      "Running Monte Carlo simulation number 480.\n",
      "Running Monte Carlo simulation number 490.\n"
     ]
    },
    {
     "data": {
      "text/html": [
       "<div>\n",
       "<style scoped>\n",
       "    .dataframe tbody tr th:only-of-type {\n",
       "        vertical-align: middle;\n",
       "    }\n",
       "\n",
       "    .dataframe tbody tr th {\n",
       "        vertical-align: top;\n",
       "    }\n",
       "\n",
       "    .dataframe thead th {\n",
       "        text-align: right;\n",
       "    }\n",
       "</style>\n",
       "<table border=\"1\" class=\"dataframe\">\n",
       "  <thead>\n",
       "    <tr style=\"text-align: right;\">\n",
       "      <th></th>\n",
       "      <th>0</th>\n",
       "      <th>1</th>\n",
       "      <th>2</th>\n",
       "      <th>3</th>\n",
       "      <th>4</th>\n",
       "      <th>5</th>\n",
       "      <th>6</th>\n",
       "      <th>7</th>\n",
       "      <th>8</th>\n",
       "      <th>9</th>\n",
       "      <th>...</th>\n",
       "      <th>490</th>\n",
       "      <th>491</th>\n",
       "      <th>492</th>\n",
       "      <th>493</th>\n",
       "      <th>494</th>\n",
       "      <th>495</th>\n",
       "      <th>496</th>\n",
       "      <th>497</th>\n",
       "      <th>498</th>\n",
       "      <th>499</th>\n",
       "    </tr>\n",
       "  </thead>\n",
       "  <tbody>\n",
       "    <tr>\n",
       "      <th>0</th>\n",
       "      <td>1.000000</td>\n",
       "      <td>1.000000</td>\n",
       "      <td>1.000000</td>\n",
       "      <td>1.000000</td>\n",
       "      <td>1.000000</td>\n",
       "      <td>1.000000</td>\n",
       "      <td>1.000000</td>\n",
       "      <td>1.000000</td>\n",
       "      <td>1.000000</td>\n",
       "      <td>1.000000</td>\n",
       "      <td>...</td>\n",
       "      <td>1.000000</td>\n",
       "      <td>1.000000</td>\n",
       "      <td>1.000000</td>\n",
       "      <td>1.000000</td>\n",
       "      <td>1.000000</td>\n",
       "      <td>1.000000</td>\n",
       "      <td>1.000000</td>\n",
       "      <td>1.000000</td>\n",
       "      <td>1.000000</td>\n",
       "      <td>1.000000</td>\n",
       "    </tr>\n",
       "    <tr>\n",
       "      <th>1</th>\n",
       "      <td>1.003960</td>\n",
       "      <td>1.002726</td>\n",
       "      <td>1.000479</td>\n",
       "      <td>1.000290</td>\n",
       "      <td>1.002829</td>\n",
       "      <td>1.010363</td>\n",
       "      <td>0.991164</td>\n",
       "      <td>1.006857</td>\n",
       "      <td>0.997160</td>\n",
       "      <td>1.002790</td>\n",
       "      <td>...</td>\n",
       "      <td>1.000630</td>\n",
       "      <td>0.991778</td>\n",
       "      <td>1.005309</td>\n",
       "      <td>0.994190</td>\n",
       "      <td>0.997035</td>\n",
       "      <td>1.001694</td>\n",
       "      <td>1.000082</td>\n",
       "      <td>0.995190</td>\n",
       "      <td>0.992986</td>\n",
       "      <td>1.001984</td>\n",
       "    </tr>\n",
       "    <tr>\n",
       "      <th>2</th>\n",
       "      <td>0.996784</td>\n",
       "      <td>1.007931</td>\n",
       "      <td>0.997834</td>\n",
       "      <td>1.002225</td>\n",
       "      <td>1.006251</td>\n",
       "      <td>1.005641</td>\n",
       "      <td>0.991656</td>\n",
       "      <td>1.001782</td>\n",
       "      <td>0.989889</td>\n",
       "      <td>0.997005</td>\n",
       "      <td>...</td>\n",
       "      <td>0.996586</td>\n",
       "      <td>0.986861</td>\n",
       "      <td>1.007026</td>\n",
       "      <td>0.999112</td>\n",
       "      <td>0.995588</td>\n",
       "      <td>0.999718</td>\n",
       "      <td>1.005185</td>\n",
       "      <td>0.991643</td>\n",
       "      <td>0.993583</td>\n",
       "      <td>1.007973</td>\n",
       "    </tr>\n",
       "    <tr>\n",
       "      <th>3</th>\n",
       "      <td>0.993302</td>\n",
       "      <td>1.004815</td>\n",
       "      <td>1.005718</td>\n",
       "      <td>1.005655</td>\n",
       "      <td>1.008916</td>\n",
       "      <td>1.006524</td>\n",
       "      <td>0.998161</td>\n",
       "      <td>1.003738</td>\n",
       "      <td>0.988804</td>\n",
       "      <td>1.005781</td>\n",
       "      <td>...</td>\n",
       "      <td>1.008495</td>\n",
       "      <td>0.982245</td>\n",
       "      <td>1.003999</td>\n",
       "      <td>1.002886</td>\n",
       "      <td>1.000147</td>\n",
       "      <td>1.004951</td>\n",
       "      <td>1.010258</td>\n",
       "      <td>0.982850</td>\n",
       "      <td>0.999409</td>\n",
       "      <td>1.000213</td>\n",
       "    </tr>\n",
       "    <tr>\n",
       "      <th>4</th>\n",
       "      <td>0.995449</td>\n",
       "      <td>1.008004</td>\n",
       "      <td>1.013803</td>\n",
       "      <td>1.005611</td>\n",
       "      <td>1.019519</td>\n",
       "      <td>1.013047</td>\n",
       "      <td>0.996334</td>\n",
       "      <td>1.006401</td>\n",
       "      <td>0.991352</td>\n",
       "      <td>1.011479</td>\n",
       "      <td>...</td>\n",
       "      <td>1.014762</td>\n",
       "      <td>0.983846</td>\n",
       "      <td>1.005022</td>\n",
       "      <td>1.003723</td>\n",
       "      <td>1.005527</td>\n",
       "      <td>1.009795</td>\n",
       "      <td>1.008400</td>\n",
       "      <td>0.989092</td>\n",
       "      <td>0.996327</td>\n",
       "      <td>1.004913</td>\n",
       "    </tr>\n",
       "    <tr>\n",
       "      <th>...</th>\n",
       "      <td>...</td>\n",
       "      <td>...</td>\n",
       "      <td>...</td>\n",
       "      <td>...</td>\n",
       "      <td>...</td>\n",
       "      <td>...</td>\n",
       "      <td>...</td>\n",
       "      <td>...</td>\n",
       "      <td>...</td>\n",
       "      <td>...</td>\n",
       "      <td>...</td>\n",
       "      <td>...</td>\n",
       "      <td>...</td>\n",
       "      <td>...</td>\n",
       "      <td>...</td>\n",
       "      <td>...</td>\n",
       "      <td>...</td>\n",
       "      <td>...</td>\n",
       "      <td>...</td>\n",
       "      <td>...</td>\n",
       "      <td>...</td>\n",
       "    </tr>\n",
       "    <tr>\n",
       "      <th>7556</th>\n",
       "      <td>13.943355</td>\n",
       "      <td>11.440257</td>\n",
       "      <td>21.347932</td>\n",
       "      <td>14.501218</td>\n",
       "      <td>15.389363</td>\n",
       "      <td>12.054736</td>\n",
       "      <td>13.507457</td>\n",
       "      <td>20.165047</td>\n",
       "      <td>19.380762</td>\n",
       "      <td>14.691228</td>\n",
       "      <td>...</td>\n",
       "      <td>17.876748</td>\n",
       "      <td>21.704357</td>\n",
       "      <td>16.537347</td>\n",
       "      <td>11.796673</td>\n",
       "      <td>21.826025</td>\n",
       "      <td>10.977219</td>\n",
       "      <td>21.862591</td>\n",
       "      <td>20.160460</td>\n",
       "      <td>12.174857</td>\n",
       "      <td>14.440147</td>\n",
       "    </tr>\n",
       "    <tr>\n",
       "      <th>7557</th>\n",
       "      <td>13.968465</td>\n",
       "      <td>11.426995</td>\n",
       "      <td>21.451725</td>\n",
       "      <td>14.461368</td>\n",
       "      <td>15.427744</td>\n",
       "      <td>11.977054</td>\n",
       "      <td>13.483496</td>\n",
       "      <td>20.130681</td>\n",
       "      <td>19.467085</td>\n",
       "      <td>14.721367</td>\n",
       "      <td>...</td>\n",
       "      <td>17.882395</td>\n",
       "      <td>21.676983</td>\n",
       "      <td>16.554334</td>\n",
       "      <td>11.801254</td>\n",
       "      <td>21.836690</td>\n",
       "      <td>10.918705</td>\n",
       "      <td>21.841440</td>\n",
       "      <td>20.258423</td>\n",
       "      <td>12.214850</td>\n",
       "      <td>14.412023</td>\n",
       "    </tr>\n",
       "    <tr>\n",
       "      <th>7558</th>\n",
       "      <td>13.867585</td>\n",
       "      <td>11.384781</td>\n",
       "      <td>21.481494</td>\n",
       "      <td>14.391205</td>\n",
       "      <td>15.416012</td>\n",
       "      <td>12.108726</td>\n",
       "      <td>13.557577</td>\n",
       "      <td>20.141185</td>\n",
       "      <td>19.513872</td>\n",
       "      <td>14.779081</td>\n",
       "      <td>...</td>\n",
       "      <td>17.948044</td>\n",
       "      <td>21.736037</td>\n",
       "      <td>16.594462</td>\n",
       "      <td>11.828916</td>\n",
       "      <td>21.827964</td>\n",
       "      <td>10.942486</td>\n",
       "      <td>21.820218</td>\n",
       "      <td>20.168494</td>\n",
       "      <td>12.239942</td>\n",
       "      <td>14.550239</td>\n",
       "    </tr>\n",
       "    <tr>\n",
       "      <th>7559</th>\n",
       "      <td>13.903723</td>\n",
       "      <td>11.359085</td>\n",
       "      <td>21.553831</td>\n",
       "      <td>14.339802</td>\n",
       "      <td>15.488952</td>\n",
       "      <td>12.083919</td>\n",
       "      <td>13.481078</td>\n",
       "      <td>20.325558</td>\n",
       "      <td>19.517296</td>\n",
       "      <td>14.756422</td>\n",
       "      <td>...</td>\n",
       "      <td>17.916286</td>\n",
       "      <td>21.744295</td>\n",
       "      <td>16.747077</td>\n",
       "      <td>11.834166</td>\n",
       "      <td>21.785172</td>\n",
       "      <td>10.929670</td>\n",
       "      <td>21.812140</td>\n",
       "      <td>20.251467</td>\n",
       "      <td>12.264347</td>\n",
       "      <td>14.681944</td>\n",
       "    </tr>\n",
       "    <tr>\n",
       "      <th>7560</th>\n",
       "      <td>13.786421</td>\n",
       "      <td>11.247422</td>\n",
       "      <td>21.365805</td>\n",
       "      <td>14.348900</td>\n",
       "      <td>15.536730</td>\n",
       "      <td>12.095555</td>\n",
       "      <td>13.450097</td>\n",
       "      <td>20.384975</td>\n",
       "      <td>19.521233</td>\n",
       "      <td>14.747422</td>\n",
       "      <td>...</td>\n",
       "      <td>17.797259</td>\n",
       "      <td>21.735308</td>\n",
       "      <td>16.725433</td>\n",
       "      <td>11.969122</td>\n",
       "      <td>21.924757</td>\n",
       "      <td>10.908605</td>\n",
       "      <td>21.791581</td>\n",
       "      <td>20.263668</td>\n",
       "      <td>12.292277</td>\n",
       "      <td>14.652548</td>\n",
       "    </tr>\n",
       "  </tbody>\n",
       "</table>\n",
       "<p>7561 rows × 500 columns</p>\n",
       "</div>"
      ],
      "text/plain": [
       "            0          1          2          3          4          5    \\\n",
       "0      1.000000   1.000000   1.000000   1.000000   1.000000   1.000000   \n",
       "1      1.003960   1.002726   1.000479   1.000290   1.002829   1.010363   \n",
       "2      0.996784   1.007931   0.997834   1.002225   1.006251   1.005641   \n",
       "3      0.993302   1.004815   1.005718   1.005655   1.008916   1.006524   \n",
       "4      0.995449   1.008004   1.013803   1.005611   1.019519   1.013047   \n",
       "...         ...        ...        ...        ...        ...        ...   \n",
       "7556  13.943355  11.440257  21.347932  14.501218  15.389363  12.054736   \n",
       "7557  13.968465  11.426995  21.451725  14.461368  15.427744  11.977054   \n",
       "7558  13.867585  11.384781  21.481494  14.391205  15.416012  12.108726   \n",
       "7559  13.903723  11.359085  21.553831  14.339802  15.488952  12.083919   \n",
       "7560  13.786421  11.247422  21.365805  14.348900  15.536730  12.095555   \n",
       "\n",
       "            6          7          8          9    ...        490        491  \\\n",
       "0      1.000000   1.000000   1.000000   1.000000  ...   1.000000   1.000000   \n",
       "1      0.991164   1.006857   0.997160   1.002790  ...   1.000630   0.991778   \n",
       "2      0.991656   1.001782   0.989889   0.997005  ...   0.996586   0.986861   \n",
       "3      0.998161   1.003738   0.988804   1.005781  ...   1.008495   0.982245   \n",
       "4      0.996334   1.006401   0.991352   1.011479  ...   1.014762   0.983846   \n",
       "...         ...        ...        ...        ...  ...        ...        ...   \n",
       "7556  13.507457  20.165047  19.380762  14.691228  ...  17.876748  21.704357   \n",
       "7557  13.483496  20.130681  19.467085  14.721367  ...  17.882395  21.676983   \n",
       "7558  13.557577  20.141185  19.513872  14.779081  ...  17.948044  21.736037   \n",
       "7559  13.481078  20.325558  19.517296  14.756422  ...  17.916286  21.744295   \n",
       "7560  13.450097  20.384975  19.521233  14.747422  ...  17.797259  21.735308   \n",
       "\n",
       "            492        493        494        495        496        497  \\\n",
       "0      1.000000   1.000000   1.000000   1.000000   1.000000   1.000000   \n",
       "1      1.005309   0.994190   0.997035   1.001694   1.000082   0.995190   \n",
       "2      1.007026   0.999112   0.995588   0.999718   1.005185   0.991643   \n",
       "3      1.003999   1.002886   1.000147   1.004951   1.010258   0.982850   \n",
       "4      1.005022   1.003723   1.005527   1.009795   1.008400   0.989092   \n",
       "...         ...        ...        ...        ...        ...        ...   \n",
       "7556  16.537347  11.796673  21.826025  10.977219  21.862591  20.160460   \n",
       "7557  16.554334  11.801254  21.836690  10.918705  21.841440  20.258423   \n",
       "7558  16.594462  11.828916  21.827964  10.942486  21.820218  20.168494   \n",
       "7559  16.747077  11.834166  21.785172  10.929670  21.812140  20.251467   \n",
       "7560  16.725433  11.969122  21.924757  10.908605  21.791581  20.263668   \n",
       "\n",
       "            498        499  \n",
       "0      1.000000   1.000000  \n",
       "1      0.992986   1.001984  \n",
       "2      0.993583   1.007973  \n",
       "3      0.999409   1.000213  \n",
       "4      0.996327   1.004913  \n",
       "...         ...        ...  \n",
       "7556  12.174857  14.440147  \n",
       "7557  12.214850  14.412023  \n",
       "7558  12.239942  14.550239  \n",
       "7559  12.264347  14.681944  \n",
       "7560  12.292277  14.652548  \n",
       "\n",
       "[7561 rows x 500 columns]"
      ]
     },
     "execution_count": 146,
     "metadata": {},
     "output_type": "execute_result"
    }
   ],
   "source": [
    "# Run the Monte Carlo simulation to forecast 30 years cumulative returns\n",
    "MC_thirty_years.calc_cumulative_return()\n"
   ]
  },
  {
   "cell_type": "code",
   "execution_count": 147,
   "metadata": {},
   "outputs": [
    {
     "data": {
      "image/png": "[encoded data removed]",
      "text/plain": [
       "<Figure size 432x288 with 1 Axes>"
      ]
     },
     "metadata": {
      "needs_background": "light"
     },
     "output_type": "display_data"
    }
   ],
   "source": [
    "# Visualize the 30-year Monte Carlo simulation by creating an\n",
    "# overlay line plot\n",
    "# YOUR CODE HERE\n",
    "MC_sim_line_plot = MC_thirty_years.plot_simulation()"
   ]
  },
  {
   "cell_type": "markdown",
   "metadata": {},
   "source": [
    "#### Step 3: Plot the probability distribution of the Monte Carlo simulation."
   ]
  },
  {
   "cell_type": "code",
   "execution_count": 148,
   "metadata": {},
   "outputs": [
    {
     "data": {
      "image/png": "[encoded data removed]",
      "text/plain": [
       "<Figure size 432x288 with 1 Axes>"
      ]
     },
     "metadata": {
      "needs_background": "light"
     },
     "output_type": "display_data"
    }
   ],
   "source": [
    "# Visualize the probability distribution of the 30-year Monte Carlo simulation \n",
    "# by plotting a histogram\n",
    "MC_sim_line_plot_hist = MC_thirty_years.plot_distribution()\n"
   ]
  },
  {
   "cell_type": "markdown",
   "metadata": {},
   "source": [
    "#### Step 4: Generate the summary statistics for the Monte Carlo simulation."
   ]
  },
  {
   "cell_type": "code",
   "execution_count": 149,
   "metadata": {},
   "outputs": [
    {
     "data": {
      "text/plain": [
       "count           500.000000\n",
       "mean             20.326606\n",
       "std               7.737687\n",
       "min               6.966703\n",
       "25%              15.022973\n",
       "50%              18.645737\n",
       "75%              24.407125\n",
       "max              68.892823\n",
       "95% CI Lower      9.504224\n",
       "95% CI Upper     37.713012\n",
       "Name: 7560, dtype: float64"
      ]
     },
     "execution_count": 149,
     "metadata": {},
     "output_type": "execute_result"
    }
   ],
   "source": [
    "# Generate summary statistics from the 30-year Monte Carlo simulation results\n",
    "# Save the results as a variable\n",
    "mc_30years_summary = MC_thirty_years.summarize_cumulative_return()\n",
    "\n",
    "\n",
    "# Review the 30-year Monte Carlo summary statistics\n",
    "mc_30years_summary"
   ]
  },
  {
   "cell_type": "markdown",
   "metadata": {},
   "source": [
    "### Analyze the Retirement Portfolio Forecasts\n",
    "\n",
    "Using the current value of only the stock and bond portion of the member's portfolio and the summary statistics that you generated from the Monte Carlo simulation, answer the following question in your Jupyter notebook:\n",
    "\n",
    "-  What are the lower and upper bounds for the expected value of the portfolio with a 95% confidence interval?\n"
   ]
  },
  {
   "cell_type": "code",
   "execution_count": 159,
   "metadata": {},
   "outputs": [
    {
     "name": "stdout",
     "output_type": "stream",
     "text": [
      "The total portifolio value is $119907.898\n"
     ]
    }
   ],
   "source": [
    "# Print the current balance of the stock and bond portion of the members portfolio\n",
    "# YOUR CODE HERE\n",
    "print(f\"The total portifolio value is ${total_portfolio}\")"
   ]
  },
  {
   "cell_type": "code",
   "execution_count": 142,
   "metadata": {},
   "outputs": [
    {
     "name": "stdout",
     "output_type": "stream",
     "text": [
      "the lower cumulative return of 30 years of this portfolio with 95% confidence is$1,080,336.11\n",
      "the upper cumulative return of 30 years of this portfolio with 95% confidence is$4,588,285.23\n"
     ]
    }
   ],
   "source": [
    "# Use the lower and upper `95%` confidence intervals to calculate the range of the possible outcomes for the current stock/bond portfolio\n",
    "ci_lower_thirty_cumulative_return = mc_30years_summary[8] * total_portfolio\n",
    "ci_upper_thirty_cumulative_return = mc_30years_summary[9] * total_portfolio\n",
    "\n",
    "# Print the result of your calculations\n",
    "print(f\"the lower cumulative return of 30 years of this portfolio with 95% confidence is${ci_lower_thirty_cumulative_return:,.2f}\")\n",
    "print(f\"the upper cumulative return of 30 years of this portfolio with 95% confidence is${ci_upper_thirty_cumulative_return:,.2f}\")"
   ]
  },
  {
   "cell_type": "markdown",
   "metadata": {},
   "source": [
    "### Forecast Cumulative Returns in 10 Years\n",
    "\n",
    "The CTO of the credit union is impressed with your work on these planning tools but wonders if 30 years is a long time to wait until retirement. So, your next task is to adjust the retirement portfolio and run a new Monte Carlo simulation to find out if the changes will allow members to retire earlier.\n",
    "\n",
    "For this new Monte Carlo simulation, do the following: \n",
    "\n",
    "- Forecast the cumulative returns for 10 years from now. Because of the shortened investment horizon (30 years to 10 years), the portfolio needs to invest more heavily in the riskier asset&mdash;that is, stock&mdash;to help accumulate wealth for retirement. \n",
    "\n",
    "- Adjust the weights of the retirement portfolio so that the composition for the Monte Carlo simulation consists of 20% bonds and 80% stocks. \n",
    "\n",
    "- Run the simulation over 500 samples, and use the same data that the API call to Alpaca generated.\n",
    "\n",
    "- Based on the new Monte Carlo simulation, answer the following questions in your Jupyter notebook:\n",
    "\n",
    "    - Using the current value of only the stock and bond portion of the member's portfolio and the summary statistics that you generated from the new Monte Carlo simulation, what are the lower and upper bounds for the expected value of the portfolio (with the new weights) with a 95% confidence interval?\n",
    "\n",
    "    - Will weighting the portfolio more heavily toward stocks allow the credit union members to retire after only 10 years?\n"
   ]
  },
  {
   "cell_type": "code",
   "execution_count": 150,
   "metadata": {},
   "outputs": [
    {
     "data": {
      "text/html": [
       "<div>\n",
       "<style scoped>\n",
       "    .dataframe tbody tr th:only-of-type {\n",
       "        vertical-align: middle;\n",
       "    }\n",
       "\n",
       "    .dataframe tbody tr th {\n",
       "        vertical-align: top;\n",
       "    }\n",
       "\n",
       "    .dataframe thead tr th {\n",
       "        text-align: left;\n",
       "    }\n",
       "\n",
       "    .dataframe thead tr:last-of-type th {\n",
       "        text-align: right;\n",
       "    }\n",
       "</style>\n",
       "<table border=\"1\" class=\"dataframe\">\n",
       "  <thead>\n",
       "    <tr>\n",
       "      <th></th>\n",
       "      <th colspan=\"6\" halign=\"left\">AGG</th>\n",
       "      <th colspan=\"6\" halign=\"left\">SPY</th>\n",
       "    </tr>\n",
       "    <tr>\n",
       "      <th></th>\n",
       "      <th>open</th>\n",
       "      <th>high</th>\n",
       "      <th>low</th>\n",
       "      <th>close</th>\n",
       "      <th>volume</th>\n",
       "      <th>daily_return</th>\n",
       "      <th>open</th>\n",
       "      <th>high</th>\n",
       "      <th>low</th>\n",
       "      <th>close</th>\n",
       "      <th>volume</th>\n",
       "      <th>daily_return</th>\n",
       "    </tr>\n",
       "    <tr>\n",
       "      <th>time</th>\n",
       "      <th></th>\n",
       "      <th></th>\n",
       "      <th></th>\n",
       "      <th></th>\n",
       "      <th></th>\n",
       "      <th></th>\n",
       "      <th></th>\n",
       "      <th></th>\n",
       "      <th></th>\n",
       "      <th></th>\n",
       "      <th></th>\n",
       "      <th></th>\n",
       "    </tr>\n",
       "  </thead>\n",
       "  <tbody>\n",
       "    <tr>\n",
       "      <th>2020-09-08 00:00:00-04:00</th>\n",
       "      <td>118.34</td>\n",
       "      <td>118.46</td>\n",
       "      <td>118.200</td>\n",
       "      <td>118.23</td>\n",
       "      <td>11938683</td>\n",
       "      <td>NaN</td>\n",
       "      <td>336.71</td>\n",
       "      <td>342.64</td>\n",
       "      <td>332.8800</td>\n",
       "      <td>333.26</td>\n",
       "      <td>196953429</td>\n",
       "      <td>NaN</td>\n",
       "    </tr>\n",
       "    <tr>\n",
       "      <th>2020-09-09 00:00:00-04:00</th>\n",
       "      <td>118.39</td>\n",
       "      <td>118.39</td>\n",
       "      <td>118.040</td>\n",
       "      <td>118.19</td>\n",
       "      <td>10977908</td>\n",
       "      <td>-0.000338</td>\n",
       "      <td>337.55</td>\n",
       "      <td>342.46</td>\n",
       "      <td>336.6100</td>\n",
       "      <td>339.76</td>\n",
       "      <td>156548054</td>\n",
       "      <td>0.019504</td>\n",
       "    </tr>\n",
       "    <tr>\n",
       "      <th>2020-09-10 00:00:00-04:00</th>\n",
       "      <td>118.11</td>\n",
       "      <td>118.29</td>\n",
       "      <td>118.015</td>\n",
       "      <td>118.23</td>\n",
       "      <td>8259876</td>\n",
       "      <td>0.000338</td>\n",
       "      <td>341.57</td>\n",
       "      <td>342.53</td>\n",
       "      <td>332.8500</td>\n",
       "      <td>333.92</td>\n",
       "      <td>150853677</td>\n",
       "      <td>-0.017189</td>\n",
       "    </tr>\n",
       "    <tr>\n",
       "      <th>2020-09-11 00:00:00-04:00</th>\n",
       "      <td>118.42</td>\n",
       "      <td>118.49</td>\n",
       "      <td>118.240</td>\n",
       "      <td>118.36</td>\n",
       "      <td>11853287</td>\n",
       "      <td>0.001100</td>\n",
       "      <td>335.82</td>\n",
       "      <td>336.97</td>\n",
       "      <td>331.0000</td>\n",
       "      <td>334.08</td>\n",
       "      <td>140223556</td>\n",
       "      <td>0.000479</td>\n",
       "    </tr>\n",
       "    <tr>\n",
       "      <th>2020-09-14 00:00:00-04:00</th>\n",
       "      <td>118.47</td>\n",
       "      <td>118.49</td>\n",
       "      <td>118.310</td>\n",
       "      <td>118.37</td>\n",
       "      <td>11222770</td>\n",
       "      <td>0.000084</td>\n",
       "      <td>337.49</td>\n",
       "      <td>340.38</td>\n",
       "      <td>334.2208</td>\n",
       "      <td>338.42</td>\n",
       "      <td>109684157</td>\n",
       "      <td>0.012991</td>\n",
       "    </tr>\n",
       "  </tbody>\n",
       "</table>\n",
       "</div>"
      ],
      "text/plain": [
       "                              AGG                                     \\\n",
       "                             open    high      low   close    volume   \n",
       "time                                                                   \n",
       "2020-09-08 00:00:00-04:00  118.34  118.46  118.200  118.23  11938683   \n",
       "2020-09-09 00:00:00-04:00  118.39  118.39  118.040  118.19  10977908   \n",
       "2020-09-10 00:00:00-04:00  118.11  118.29  118.015  118.23   8259876   \n",
       "2020-09-11 00:00:00-04:00  118.42  118.49  118.240  118.36  11853287   \n",
       "2020-09-14 00:00:00-04:00  118.47  118.49  118.310  118.37  11222770   \n",
       "\n",
       "                                           SPY                            \\\n",
       "                          daily_return    open    high       low   close   \n",
       "time                                                                       \n",
       "2020-09-08 00:00:00-04:00          NaN  336.71  342.64  332.8800  333.26   \n",
       "2020-09-09 00:00:00-04:00    -0.000338  337.55  342.46  336.6100  339.76   \n",
       "2020-09-10 00:00:00-04:00     0.000338  341.57  342.53  332.8500  333.92   \n",
       "2020-09-11 00:00:00-04:00     0.001100  335.82  336.97  331.0000  334.08   \n",
       "2020-09-14 00:00:00-04:00     0.000084  337.49  340.38  334.2208  338.42   \n",
       "\n",
       "                                                   \n",
       "                              volume daily_return  \n",
       "time                                               \n",
       "2020-09-08 00:00:00-04:00  196953429          NaN  \n",
       "2020-09-09 00:00:00-04:00  156548054     0.019504  \n",
       "2020-09-10 00:00:00-04:00  150853677    -0.017189  \n",
       "2020-09-11 00:00:00-04:00  140223556     0.000479  \n",
       "2020-09-14 00:00:00-04:00  109684157     0.012991  "
      ]
     },
     "execution_count": 150,
     "metadata": {},
     "output_type": "execute_result"
    }
   ],
   "source": [
    "# Configure a Monte Carlo simulation to forecast 10 years cumulative returns\n",
    "# The weights should be split 20% to AGG and 80% to SPY.\n",
    "# Run 500 samples.\n",
    "MC_ten_years = MCSimulation(\n",
    "    portfolio_data=ten_years_df,\n",
    "    weights=[0.80, 0.20],\n",
    "    num_simulation=500,\n",
    "    num_trading_days=252*10,\n",
    ")\n",
    "\n",
    "# Review the simulation input data\n",
    "MC_ten_years.portfolio_data.head()\n"
   ]
  },
  {
   "cell_type": "code",
   "execution_count": 151,
   "metadata": {},
   "outputs": [
    {
     "name": "stdout",
     "output_type": "stream",
     "text": [
      "Running Monte Carlo simulation number 0.\n",
      "Running Monte Carlo simulation number 10.\n",
      "Running Monte Carlo simulation number 20.\n",
      "Running Monte Carlo simulation number 30.\n",
      "Running Monte Carlo simulation number 40.\n",
      "Running Monte Carlo simulation number 50.\n",
      "Running Monte Carlo simulation number 60.\n",
      "Running Monte Carlo simulation number 70.\n",
      "Running Monte Carlo simulation number 80.\n",
      "Running Monte Carlo simulation number 90.\n",
      "Running Monte Carlo simulation number 100.\n",
      "Running Monte Carlo simulation number 110.\n",
      "Running Monte Carlo simulation number 120.\n",
      "Running Monte Carlo simulation number 130.\n",
      "Running Monte Carlo simulation number 140.\n",
      "Running Monte Carlo simulation number 150.\n",
      "Running Monte Carlo simulation number 160.\n",
      "Running Monte Carlo simulation number 170.\n",
      "Running Monte Carlo simulation number 180.\n",
      "Running Monte Carlo simulation number 190.\n",
      "Running Monte Carlo simulation number 200.\n",
      "Running Monte Carlo simulation number 210.\n",
      "Running Monte Carlo simulation number 220.\n",
      "Running Monte Carlo simulation number 230.\n",
      "Running Monte Carlo simulation number 240.\n",
      "Running Monte Carlo simulation number 250.\n",
      "Running Monte Carlo simulation number 260.\n",
      "Running Monte Carlo simulation number 270.\n",
      "Running Monte Carlo simulation number 280.\n",
      "Running Monte Carlo simulation number 290.\n",
      "Running Monte Carlo simulation number 300.\n",
      "Running Monte Carlo simulation number 310.\n",
      "Running Monte Carlo simulation number 320.\n",
      "Running Monte Carlo simulation number 330.\n",
      "Running Monte Carlo simulation number 340.\n",
      "Running Monte Carlo simulation number 350.\n",
      "Running Monte Carlo simulation number 360.\n",
      "Running Monte Carlo simulation number 370.\n",
      "Running Monte Carlo simulation number 380.\n",
      "Running Monte Carlo simulation number 390.\n",
      "Running Monte Carlo simulation number 400.\n",
      "Running Monte Carlo simulation number 410.\n",
      "Running Monte Carlo simulation number 420.\n",
      "Running Monte Carlo simulation number 430.\n",
      "Running Monte Carlo simulation number 440.\n",
      "Running Monte Carlo simulation number 450.\n",
      "Running Monte Carlo simulation number 460.\n",
      "Running Monte Carlo simulation number 470.\n",
      "Running Monte Carlo simulation number 480.\n",
      "Running Monte Carlo simulation number 490.\n"
     ]
    },
    {
     "data": {
      "text/html": [
       "<div>\n",
       "<style scoped>\n",
       "    .dataframe tbody tr th:only-of-type {\n",
       "        vertical-align: middle;\n",
       "    }\n",
       "\n",
       "    .dataframe tbody tr th {\n",
       "        vertical-align: top;\n",
       "    }\n",
       "\n",
       "    .dataframe thead th {\n",
       "        text-align: right;\n",
       "    }\n",
       "</style>\n",
       "<table border=\"1\" class=\"dataframe\">\n",
       "  <thead>\n",
       "    <tr style=\"text-align: right;\">\n",
       "      <th></th>\n",
       "      <th>0</th>\n",
       "      <th>1</th>\n",
       "      <th>2</th>\n",
       "      <th>3</th>\n",
       "      <th>4</th>\n",
       "      <th>5</th>\n",
       "      <th>6</th>\n",
       "      <th>7</th>\n",
       "      <th>8</th>\n",
       "      <th>9</th>\n",
       "      <th>...</th>\n",
       "      <th>490</th>\n",
       "      <th>491</th>\n",
       "      <th>492</th>\n",
       "      <th>493</th>\n",
       "      <th>494</th>\n",
       "      <th>495</th>\n",
       "      <th>496</th>\n",
       "      <th>497</th>\n",
       "      <th>498</th>\n",
       "      <th>499</th>\n",
       "    </tr>\n",
       "  </thead>\n",
       "  <tbody>\n",
       "    <tr>\n",
       "      <th>0</th>\n",
       "      <td>1.000000</td>\n",
       "      <td>1.000000</td>\n",
       "      <td>1.000000</td>\n",
       "      <td>1.000000</td>\n",
       "      <td>1.000000</td>\n",
       "      <td>1.000000</td>\n",
       "      <td>1.000000</td>\n",
       "      <td>1.000000</td>\n",
       "      <td>1.000000</td>\n",
       "      <td>1.000000</td>\n",
       "      <td>...</td>\n",
       "      <td>1.000000</td>\n",
       "      <td>1.000000</td>\n",
       "      <td>1.000000</td>\n",
       "      <td>1.000000</td>\n",
       "      <td>1.000000</td>\n",
       "      <td>1.000000</td>\n",
       "      <td>1.000000</td>\n",
       "      <td>1.000000</td>\n",
       "      <td>1.000000</td>\n",
       "      <td>1.000000</td>\n",
       "    </tr>\n",
       "    <tr>\n",
       "      <th>1</th>\n",
       "      <td>1.000320</td>\n",
       "      <td>1.003053</td>\n",
       "      <td>1.000427</td>\n",
       "      <td>0.999013</td>\n",
       "      <td>1.003849</td>\n",
       "      <td>1.001743</td>\n",
       "      <td>0.995849</td>\n",
       "      <td>1.002659</td>\n",
       "      <td>1.002623</td>\n",
       "      <td>0.995155</td>\n",
       "      <td>...</td>\n",
       "      <td>0.999127</td>\n",
       "      <td>1.002765</td>\n",
       "      <td>0.994376</td>\n",
       "      <td>1.001676</td>\n",
       "      <td>1.002250</td>\n",
       "      <td>0.998006</td>\n",
       "      <td>1.003567</td>\n",
       "      <td>1.003833</td>\n",
       "      <td>0.999866</td>\n",
       "      <td>1.004196</td>\n",
       "    </tr>\n",
       "    <tr>\n",
       "      <th>2</th>\n",
       "      <td>1.002129</td>\n",
       "      <td>1.007670</td>\n",
       "      <td>1.001695</td>\n",
       "      <td>0.999443</td>\n",
       "      <td>1.005192</td>\n",
       "      <td>1.002695</td>\n",
       "      <td>0.996137</td>\n",
       "      <td>1.003881</td>\n",
       "      <td>1.003988</td>\n",
       "      <td>1.000970</td>\n",
       "      <td>...</td>\n",
       "      <td>0.997213</td>\n",
       "      <td>1.005421</td>\n",
       "      <td>0.993908</td>\n",
       "      <td>1.000689</td>\n",
       "      <td>1.000733</td>\n",
       "      <td>1.000260</td>\n",
       "      <td>1.005745</td>\n",
       "      <td>1.003070</td>\n",
       "      <td>0.998834</td>\n",
       "      <td>1.005970</td>\n",
       "    </tr>\n",
       "    <tr>\n",
       "      <th>3</th>\n",
       "      <td>0.996142</td>\n",
       "      <td>1.008946</td>\n",
       "      <td>1.003906</td>\n",
       "      <td>0.999941</td>\n",
       "      <td>1.002869</td>\n",
       "      <td>1.002899</td>\n",
       "      <td>0.994405</td>\n",
       "      <td>1.001493</td>\n",
       "      <td>1.002104</td>\n",
       "      <td>1.002508</td>\n",
       "      <td>...</td>\n",
       "      <td>0.997825</td>\n",
       "      <td>1.001011</td>\n",
       "      <td>0.998074</td>\n",
       "      <td>0.997627</td>\n",
       "      <td>0.999028</td>\n",
       "      <td>0.996458</td>\n",
       "      <td>1.013345</td>\n",
       "      <td>1.000893</td>\n",
       "      <td>0.995426</td>\n",
       "      <td>1.007885</td>\n",
       "    </tr>\n",
       "    <tr>\n",
       "      <th>4</th>\n",
       "      <td>0.995504</td>\n",
       "      <td>1.007055</td>\n",
       "      <td>0.998550</td>\n",
       "      <td>1.003461</td>\n",
       "      <td>1.004309</td>\n",
       "      <td>1.007225</td>\n",
       "      <td>0.996617</td>\n",
       "      <td>1.003312</td>\n",
       "      <td>1.002697</td>\n",
       "      <td>1.004115</td>\n",
       "      <td>...</td>\n",
       "      <td>1.000389</td>\n",
       "      <td>1.001148</td>\n",
       "      <td>0.998519</td>\n",
       "      <td>0.997299</td>\n",
       "      <td>1.003544</td>\n",
       "      <td>0.995856</td>\n",
       "      <td>1.012550</td>\n",
       "      <td>1.004701</td>\n",
       "      <td>0.998574</td>\n",
       "      <td>1.006405</td>\n",
       "    </tr>\n",
       "    <tr>\n",
       "      <th>...</th>\n",
       "      <td>...</td>\n",
       "      <td>...</td>\n",
       "      <td>...</td>\n",
       "      <td>...</td>\n",
       "      <td>...</td>\n",
       "      <td>...</td>\n",
       "      <td>...</td>\n",
       "      <td>...</td>\n",
       "      <td>...</td>\n",
       "      <td>...</td>\n",
       "      <td>...</td>\n",
       "      <td>...</td>\n",
       "      <td>...</td>\n",
       "      <td>...</td>\n",
       "      <td>...</td>\n",
       "      <td>...</td>\n",
       "      <td>...</td>\n",
       "      <td>...</td>\n",
       "      <td>...</td>\n",
       "      <td>...</td>\n",
       "      <td>...</td>\n",
       "    </tr>\n",
       "    <tr>\n",
       "      <th>2516</th>\n",
       "      <td>1.251230</td>\n",
       "      <td>1.446867</td>\n",
       "      <td>1.674262</td>\n",
       "      <td>2.013012</td>\n",
       "      <td>1.657441</td>\n",
       "      <td>1.293299</td>\n",
       "      <td>1.296478</td>\n",
       "      <td>1.267298</td>\n",
       "      <td>1.497116</td>\n",
       "      <td>1.657243</td>\n",
       "      <td>...</td>\n",
       "      <td>1.615908</td>\n",
       "      <td>1.388206</td>\n",
       "      <td>1.438465</td>\n",
       "      <td>1.522819</td>\n",
       "      <td>1.401919</td>\n",
       "      <td>1.496124</td>\n",
       "      <td>1.261859</td>\n",
       "      <td>1.700455</td>\n",
       "      <td>1.469590</td>\n",
       "      <td>1.382194</td>\n",
       "    </tr>\n",
       "    <tr>\n",
       "      <th>2517</th>\n",
       "      <td>1.253395</td>\n",
       "      <td>1.447319</td>\n",
       "      <td>1.677130</td>\n",
       "      <td>2.009301</td>\n",
       "      <td>1.660986</td>\n",
       "      <td>1.290943</td>\n",
       "      <td>1.297226</td>\n",
       "      <td>1.265677</td>\n",
       "      <td>1.500778</td>\n",
       "      <td>1.651711</td>\n",
       "      <td>...</td>\n",
       "      <td>1.616356</td>\n",
       "      <td>1.395454</td>\n",
       "      <td>1.432433</td>\n",
       "      <td>1.527023</td>\n",
       "      <td>1.398376</td>\n",
       "      <td>1.492376</td>\n",
       "      <td>1.262362</td>\n",
       "      <td>1.698728</td>\n",
       "      <td>1.470088</td>\n",
       "      <td>1.382302</td>\n",
       "    </tr>\n",
       "    <tr>\n",
       "      <th>2518</th>\n",
       "      <td>1.251488</td>\n",
       "      <td>1.448801</td>\n",
       "      <td>1.675929</td>\n",
       "      <td>2.018460</td>\n",
       "      <td>1.660870</td>\n",
       "      <td>1.291853</td>\n",
       "      <td>1.297441</td>\n",
       "      <td>1.266354</td>\n",
       "      <td>1.506181</td>\n",
       "      <td>1.656614</td>\n",
       "      <td>...</td>\n",
       "      <td>1.616952</td>\n",
       "      <td>1.395582</td>\n",
       "      <td>1.431412</td>\n",
       "      <td>1.525159</td>\n",
       "      <td>1.398135</td>\n",
       "      <td>1.496442</td>\n",
       "      <td>1.267699</td>\n",
       "      <td>1.701666</td>\n",
       "      <td>1.469180</td>\n",
       "      <td>1.384810</td>\n",
       "    </tr>\n",
       "    <tr>\n",
       "      <th>2519</th>\n",
       "      <td>1.252224</td>\n",
       "      <td>1.442128</td>\n",
       "      <td>1.678670</td>\n",
       "      <td>2.018094</td>\n",
       "      <td>1.662706</td>\n",
       "      <td>1.289871</td>\n",
       "      <td>1.301020</td>\n",
       "      <td>1.269472</td>\n",
       "      <td>1.505817</td>\n",
       "      <td>1.656750</td>\n",
       "      <td>...</td>\n",
       "      <td>1.615994</td>\n",
       "      <td>1.396022</td>\n",
       "      <td>1.438234</td>\n",
       "      <td>1.518656</td>\n",
       "      <td>1.401835</td>\n",
       "      <td>1.495744</td>\n",
       "      <td>1.265931</td>\n",
       "      <td>1.696527</td>\n",
       "      <td>1.472166</td>\n",
       "      <td>1.387893</td>\n",
       "    </tr>\n",
       "    <tr>\n",
       "      <th>2520</th>\n",
       "      <td>1.257502</td>\n",
       "      <td>1.439593</td>\n",
       "      <td>1.672692</td>\n",
       "      <td>2.026999</td>\n",
       "      <td>1.657720</td>\n",
       "      <td>1.291199</td>\n",
       "      <td>1.301490</td>\n",
       "      <td>1.265222</td>\n",
       "      <td>1.508380</td>\n",
       "      <td>1.655044</td>\n",
       "      <td>...</td>\n",
       "      <td>1.610265</td>\n",
       "      <td>1.399498</td>\n",
       "      <td>1.438782</td>\n",
       "      <td>1.514737</td>\n",
       "      <td>1.400928</td>\n",
       "      <td>1.499425</td>\n",
       "      <td>1.266789</td>\n",
       "      <td>1.697727</td>\n",
       "      <td>1.473904</td>\n",
       "      <td>1.392988</td>\n",
       "    </tr>\n",
       "  </tbody>\n",
       "</table>\n",
       "<p>2521 rows × 500 columns</p>\n",
       "</div>"
      ],
      "text/plain": [
       "           0         1         2         3         4         5         6    \\\n",
       "0     1.000000  1.000000  1.000000  1.000000  1.000000  1.000000  1.000000   \n",
       "1     1.000320  1.003053  1.000427  0.999013  1.003849  1.001743  0.995849   \n",
       "2     1.002129  1.007670  1.001695  0.999443  1.005192  1.002695  0.996137   \n",
       "3     0.996142  1.008946  1.003906  0.999941  1.002869  1.002899  0.994405   \n",
       "4     0.995504  1.007055  0.998550  1.003461  1.004309  1.007225  0.996617   \n",
       "...        ...       ...       ...       ...       ...       ...       ...   \n",
       "2516  1.251230  1.446867  1.674262  2.013012  1.657441  1.293299  1.296478   \n",
       "2517  1.253395  1.447319  1.677130  2.009301  1.660986  1.290943  1.297226   \n",
       "2518  1.251488  1.448801  1.675929  2.018460  1.660870  1.291853  1.297441   \n",
       "2519  1.252224  1.442128  1.678670  2.018094  1.662706  1.289871  1.301020   \n",
       "2520  1.257502  1.439593  1.672692  2.026999  1.657720  1.291199  1.301490   \n",
       "\n",
       "           7         8         9    ...       490       491       492  \\\n",
       "0     1.000000  1.000000  1.000000  ...  1.000000  1.000000  1.000000   \n",
       "1     1.002659  1.002623  0.995155  ...  0.999127  1.002765  0.994376   \n",
       "2     1.003881  1.003988  1.000970  ...  0.997213  1.005421  0.993908   \n",
       "3     1.001493  1.002104  1.002508  ...  0.997825  1.001011  0.998074   \n",
       "4     1.003312  1.002697  1.004115  ...  1.000389  1.001148  0.998519   \n",
       "...        ...       ...       ...  ...       ...       ...       ...   \n",
       "2516  1.267298  1.497116  1.657243  ...  1.615908  1.388206  1.438465   \n",
       "2517  1.265677  1.500778  1.651711  ...  1.616356  1.395454  1.432433   \n",
       "2518  1.266354  1.506181  1.656614  ...  1.616952  1.395582  1.431412   \n",
       "2519  1.269472  1.505817  1.656750  ...  1.615994  1.396022  1.438234   \n",
       "2520  1.265222  1.508380  1.655044  ...  1.610265  1.399498  1.438782   \n",
       "\n",
       "           493       494       495       496       497       498       499  \n",
       "0     1.000000  1.000000  1.000000  1.000000  1.000000  1.000000  1.000000  \n",
       "1     1.001676  1.002250  0.998006  1.003567  1.003833  0.999866  1.004196  \n",
       "2     1.000689  1.000733  1.000260  1.005745  1.003070  0.998834  1.005970  \n",
       "3     0.997627  0.999028  0.996458  1.013345  1.000893  0.995426  1.007885  \n",
       "4     0.997299  1.003544  0.995856  1.012550  1.004701  0.998574  1.006405  \n",
       "...        ...       ...       ...       ...       ...       ...       ...  \n",
       "2516  1.522819  1.401919  1.496124  1.261859  1.700455  1.469590  1.382194  \n",
       "2517  1.527023  1.398376  1.492376  1.262362  1.698728  1.470088  1.382302  \n",
       "2518  1.525159  1.398135  1.496442  1.267699  1.701666  1.469180  1.384810  \n",
       "2519  1.518656  1.401835  1.495744  1.265931  1.696527  1.472166  1.387893  \n",
       "2520  1.514737  1.400928  1.499425  1.266789  1.697727  1.473904  1.392988  \n",
       "\n",
       "[2521 rows x 500 columns]"
      ]
     },
     "execution_count": 151,
     "metadata": {},
     "output_type": "execute_result"
    }
   ],
   "source": [
    "# Run the Monte Carlo simulation to forecast 10 years cumulative returns\n",
    "MC_ten_years.calc_cumulative_return()\n"
   ]
  },
  {
   "cell_type": "code",
   "execution_count": 155,
   "metadata": {},
   "outputs": [
    {
     "data": {
      "image/png": "[encoded data removed]",
      "text/plain": [
       "<Figure size 432x288 with 1 Axes>"
      ]
     },
     "metadata": {
      "needs_background": "light"
     },
     "output_type": "display_data"
    }
   ],
   "source": [
    "# Visualize the 10-year Monte Carlo simulation by creating an\n",
    "# overlay line plot\n",
    "MC_ten_years_plot_sim = MC_ten_years.plot_simulation()\n"
   ]
  },
  {
   "cell_type": "code",
   "execution_count": 156,
   "metadata": {},
   "outputs": [
    {
     "data": {
      "image/png": "[encoded data removed]",
      "text/plain": [
       "<Figure size 432x288 with 1 Axes>"
      ]
     },
     "metadata": {
      "needs_background": "light"
     },
     "output_type": "display_data"
    }
   ],
   "source": [
    "# Visualize the probability distribution of the 10-year Monte Carlo simulation \n",
    "MC_ten_years_plot_dist = MC_ten_years.plot_distribution()\n"
   ]
  },
  {
   "cell_type": "code",
   "execution_count": 161,
   "metadata": {},
   "outputs": [
    {
     "data": {
      "text/plain": [
       "count           500.000000\n",
       "mean              1.496750\n",
       "std               0.189471\n",
       "min               1.040039\n",
       "25%               1.361307\n",
       "50%               1.480595\n",
       "75%               1.630871\n",
       "max               2.245182\n",
       "95% CI Lower      1.153605\n",
       "95% CI Upper      1.900997\n",
       "Name: 2520, dtype: float64"
      ]
     },
     "execution_count": 161,
     "metadata": {},
     "output_type": "execute_result"
    }
   ],
   "source": [
    "# Generate summary statistics from the 10-year Monte Carlo simulation results\n",
    "# Save the results as a variable\n",
    "MC_10_statistics = MC_ten_years.summarize_cumulative_return()\n",
    "\n",
    "\n",
    "# Review the 10-year Monte Carlo summary statistics\n",
    "MC_10_statistics"
   ]
  },
  {
   "cell_type": "markdown",
   "metadata": {},
   "source": [
    "### Answer the following questions:"
   ]
  },
  {
   "cell_type": "markdown",
   "metadata": {},
   "source": [
    "#### Question: Using the current value of only the stock and bond portion of the member's portfolio and the summary statistics that you generated from the new Monte Carlo simulation, what are the lower and upper bounds for the expected value of the portfolio (with the new weights) with a 95% confidence interval?"
   ]
  },
  {
   "cell_type": "code",
   "execution_count": 162,
   "metadata": {},
   "outputs": [
    {
     "name": "stdout",
     "output_type": "stream",
     "text": [
      "The total portifolio value is $119907.898\n"
     ]
    }
   ],
   "source": [
    "# Print the current balance of the stock and bond portion of the members portfolio\n",
    "print(f\"The total portfolio value is ${total_portfolio}\")\n"
   ]
  },
  {
   "cell_type": "code",
   "execution_count": 164,
   "metadata": {},
   "outputs": [
    {
     "name": "stdout",
     "output_type": "stream",
     "text": [
      "the lower cumulative return of 30 years of this portfolio with 95% confidence is$138,326.31\n",
      "the upper cumulative return of 30 years of this portfolio with 95% confidence is$227,944.57\n"
     ]
    }
   ],
   "source": [
    "# Use the lower and upper `95%` confidence intervals to calculate the range of the possible outcomes for the current stock/bond portfolio\n",
    "ci_lower_ten_cumulative_return = MC_10_statistics[8] * total_portfolio\n",
    "ci_upper_ten_cumulative_return = MC_10_statistics[9] * total_portfolio\n",
    "\n",
    "print(f\"the lower cumulative return of 30 years of this portfolio with 95% confidence is${ci_lower_ten_cumulative_return:,.2f}\")\n",
    "print(f\"the upper cumulative return of 30 years of this portfolio with 95% confidence is${ci_upper_ten_cumulative_return:,.2f}\")\n"
   ]
  },
  {
   "cell_type": "markdown",
   "metadata": {},
   "source": [
    "#### Question: Will weighting the portfolio more heavily to stocks allow the credit union members to retire after only 10 years?"
   ]
  },
  {
   "cell_type": "raw",
   "metadata": {},
   "source": [
    "**Answer** # No, The return will be too low in just ten years with that weight"
   ]
  },
  {
   "cell_type": "code",
   "execution_count": null,
   "metadata": {},
   "outputs": [],
   "source": []
  }
 ],
 "metadata": {
  "kernelspec": {
   "display_name": "Python 3",
   "language": "python",
   "name": "python3"
  },
  "language_info": {
   "codemirror_mode": {
    "name": "ipython",
    "version": 3
   },
   "file_extension": ".py",
   "mimetype": "text/x-python",
   "name": "python",
   "nbconvert_exporter": "python",
   "pygments_lexer": "ipython3",
   "version": "3.7.9"
  }
 },
 "nbformat": 4,
 "nbformat_minor": 4
}
